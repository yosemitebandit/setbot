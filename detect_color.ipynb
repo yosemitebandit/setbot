{
 "cells": [
  {
   "cell_type": "markdown",
   "metadata": {},
   "source": [
    "---\n",
    "This notebook will use tensorflow to determine the color of a card: red, green or purple.\n",
    "\n",
    "First we'll split the data into training, validation and test folds.\n",
    "  \n",
    "---"
   ]
  },
  {
   "cell_type": "code",
   "execution_count": 1,
   "metadata": {
    "collapsed": false
   },
   "outputs": [],
   "source": [
    "import os\n",
    "import random\n",
    "import numpy as np\n",
    "\n",
    "\n",
    "input_directory = 'rgba-data'\n",
    "proportion_for_test = 0.01\n",
    "proportion_for_validation = 0.01\n",
    "\n",
    "# Load all the data into an array.  Each element is a tuple: (filename, numpy data).\n",
    "# The filename structure is \"<number>-<color>-<texture>-<shape>-<rotation>.png\"\n",
    "# We'll sort the data first so the later shuffle is consistent.\n",
    "all_data = [\n",
    "  (f, np.load(os.path.join(input_directory, f))) for f in os.listdir(input_directory)\n",
    "]\n",
    "all_data_sorted = sorted(all_data, key=lambda element: element[0])\n",
    "random.seed(2)\n",
    "random.shuffle(all_data_sorted)\n",
    "\n",
    "# Save 1% of the data for testing (the final, one-shot evaluation of performance).\n",
    "split_index = int(proportion_for_test * len(all_data_sorted))\n",
    "test_data = all_data_sorted[0:split_index]\n",
    "remaining_data = all_data_sorted[split_index:]\n",
    "\n",
    "# Now save 1% of the remaining data for validation -- the rest is for training.\n",
    "split_index = int(proportion_for_validation * len(remaining_data))\n",
    "validation_data = remaining_data[0:split_index]\n",
    "training_data = remaining_data[split_index:]\n",
    "\n",
    "# For convenience, get all the pixel data into separate arrays.\n",
    "training_pixel_data = [pixel_data for _, pixel_data in training_data]\n",
    "validation_pixel_data = np.array([pixel_data for _, pixel_data in validation_data])\n",
    "test_pixel_data = np.array([pixel_data for _, pixel_data in test_data])\n",
    "\n",
    "# Each filename, in its text, has an embedded color.\n",
    "# We need to convert those classes (the output ground truth) into label arrays.\n",
    "all_labels = {\n",
    "  'red': [1., 0., 0.],\n",
    "  'green': [0., 1., 0.],\n",
    "  'purple': [0., 0., 1.],\n",
    "}\n",
    "training_labels = [\n",
    "  all_labels[filename.split('-')[1]] for filename, _ in training_data\n",
    "]\n",
    "validation_labels = [\n",
    "  all_labels[filename.split('-')[1]] for filename, _ in validation_data\n",
    "]\n",
    "test_labels = [\n",
    "  all_labels[filename.split('-')[1]] for filename, _ in test_data\n",
    "]"
   ]
  },
  {
   "cell_type": "markdown",
   "metadata": {},
   "source": [
    "---\n",
    "setup tensorflow\n",
    "\n",
    "---"
   ]
  },
  {
   "cell_type": "code",
   "execution_count": 2,
   "metadata": {
    "collapsed": false
   },
   "outputs": [],
   "source": [
    "import random\n",
    "import tensorflow as tf\n",
    "\n",
    "\n",
    "learning_rate = 1e-4\n",
    "regularization_factor = 1e-4\n",
    "card_width, card_height, card_channels = 150, 150, 3\n",
    "first_hidden_layer_size, second_hidden_layer_size = 1024, 128\n",
    "\n",
    "graph = tf.Graph()\n",
    "with graph.as_default():\n",
    "  # Setup the training steps.\n",
    "  tf_training_data = tf.placeholder(tf.float32, shape=[None, card_width*card_height*card_channels])\n",
    "  tf_training_labels = tf.placeholder(tf.float32, shape=[None, 3])\n",
    "  \n",
    "  # Create hidden layers of ReLUs.\n",
    "  first_hidden_weights = tf.Variable(\n",
    "    tf.truncated_normal([card_width*card_height*card_channels, first_hidden_layer_size]), name='first_hidden_weights')\n",
    "  first_hidden_biases = tf.Variable(\n",
    "    tf.zeros([first_hidden_layer_size]), name='first_hidden_biases')\n",
    "  first_hidden_layer = tf.nn.relu(tf.matmul(tf_training_data, first_hidden_weights) + first_hidden_biases)\n",
    "  second_hidden_weights = tf.Variable(\n",
    "    tf.truncated_normal([first_hidden_layer_size, second_hidden_layer_size]), name='second_hidden_weights')\n",
    "  second_hidden_biases = tf.Variable(\n",
    "    tf.zeros([second_hidden_layer_size]), name='second_hidden_biases')\n",
    "  second_hidden_layer = tf.nn.relu(tf.matmul(first_hidden_layer, second_hidden_weights) + second_hidden_biases)\n",
    "  \n",
    "  # Build the output layer.\n",
    "  output_weights = tf.Variable(tf.truncated_normal([second_hidden_layer_size, 3]), name='output_weights')\n",
    "  output_biases = tf.Variable(tf.zeros([3]), name='output_biases')\n",
    "  output_logits = tf.matmul(second_hidden_layer, output_weights) + output_biases\n",
    "  training_estimate = tf.nn.softmax(output_logits)\n",
    "\n",
    "  # Calculate loss and setup the optimizer.\n",
    "  loss = tf.reduce_mean(tf.nn.softmax_cross_entropy_with_logits(output_logits, tf_training_labels))\n",
    "  l2_regularization = (tf.nn.l2_loss(output_weights) +\n",
    "                       tf.nn.l2_loss(first_hidden_weights) +\n",
    "                       tf.nn.l2_loss(second_hidden_weights))\n",
    "  loss += regularization_factor * l2_regularization\n",
    "  training_step = tf.train.AdamOptimizer(learning_rate).minimize(loss)\n",
    "\n",
    "  # Setup validation.  We have to reshape into a \"dense tensor\"\n",
    "  # by, essentially, combining this array of arrays into a true matrix.\n",
    "  tf_validation_pixel_data = tf.constant(\n",
    "    validation_pixel_data.reshape((-1, card_width*card_height*card_channels)).astype(np.float32))\n",
    "  validation_first_hidden_layer = tf.nn.relu(\n",
    "    tf.matmul(tf_validation_pixel_data, first_hidden_weights) + first_hidden_biases)\n",
    "  validation_second_hidden_layer = tf.nn.relu(\n",
    "    tf.matmul(validation_first_hidden_layer, second_hidden_weights) + second_hidden_biases)\n",
    "  validation_logits = tf.matmul(validation_second_hidden_layer, output_weights) + output_biases\n",
    "  validation_estimate = tf.nn.softmax(validation_logits)\n",
    "\n",
    "  # Setup the final test run.\n",
    "  tf_test_pixel_data = tf.constant(\n",
    "    test_pixel_data.reshape((-1, card_width*card_height*card_channels)).astype(np.float32))\n",
    "  test_first_hidden_layer = tf.nn.relu(\n",
    "    tf.matmul(tf_test_pixel_data, first_hidden_weights) + first_hidden_biases)\n",
    "  test_second_hidden_layer = tf.nn.relu(\n",
    "    tf.matmul(test_first_hidden_layer, second_hidden_weights) + second_hidden_biases)\n",
    "  test_logits = tf.matmul(test_second_hidden_layer, output_weights) + output_biases\n",
    "  test_estimate = tf.nn.softmax(test_logits)"
   ]
  },
  {
   "cell_type": "markdown",
   "metadata": {},
   "source": [
    "---\n",
    "aside: create a small function to calculate the accuracy of a set of predictions\n",
    "  \n",
    "---"
   ]
  },
  {
   "cell_type": "code",
   "execution_count": 3,
   "metadata": {
    "collapsed": true
   },
   "outputs": [],
   "source": [
    "def calculate_accuracy(predictions, ground_truth):\n",
    "  \"\"\"Determine what proportion of predictions are accurate based on ground truth.\"\"\"\n",
    "  correctness = np.sum(np.argmax(predictions, 1) == np.argmax(ground_truth, 1))\n",
    "  return 100. * correctness / predictions.shape[0]"
   ]
  },
  {
   "cell_type": "markdown",
   "metadata": {},
   "source": [
    "---\n",
    "and run the optimizer in batches\n",
    "\n",
    "---"
   ]
  },
  {
   "cell_type": "code",
   "execution_count": 4,
   "metadata": {
    "collapsed": false
   },
   "outputs": [
    {
     "name": "stdout",
     "output_type": "stream",
     "text": [
      "iteration: 0 -> loss: 3.9841e+06, training accuracy: 37.0%, validation accuracy: 33.1%\n",
      "iteration: 20 -> loss: 1.37441e+06, training accuracy: 38.0%, validation accuracy: 36.1%\n",
      "iteration: 40 -> loss: 933994.0, training accuracy: 43.0%, validation accuracy: 42.3%\n",
      "iteration: 60 -> loss: 843063.0, training accuracy: 47.0%, validation accuracy: 42.6%\n",
      "iteration: 80 -> loss: 641390.0, training accuracy: 47.0%, validation accuracy: 42.0%\n",
      "iteration: 100 -> loss: 540490.0, training accuracy: 54.0%, validation accuracy: 46.4%\n",
      "iteration: 120 -> loss: 745562.0, training accuracy: 53.0%, validation accuracy: 46.7%\n",
      "iteration: 140 -> loss: 653033.0, training accuracy: 54.0%, validation accuracy: 47.4%\n",
      "iteration: 160 -> loss: 548465.0, training accuracy: 52.0%, validation accuracy: 48.5%\n",
      "iteration: 180 -> loss: 548334.0, training accuracy: 48.0%, validation accuracy: 52.3%\n",
      "iteration: 200 -> loss: 451532.0, training accuracy: 50.0%, validation accuracy: 50.5%\n",
      "iteration: 220 -> loss: 475406.0, training accuracy: 53.0%, validation accuracy: 51.3%\n",
      "iteration: 240 -> loss: 493511.0, training accuracy: 53.0%, validation accuracy: 51.8%\n",
      "iteration: 260 -> loss: 366765.0, training accuracy: 52.0%, validation accuracy: 47.6%\n",
      "iteration: 280 -> loss: 554326.0, training accuracy: 47.0%, validation accuracy: 50.7%\n",
      "iteration: 300 -> loss: 357128.0, training accuracy: 66.0%, validation accuracy: 53.1%\n",
      "iteration: 320 -> loss: 493379.0, training accuracy: 50.0%, validation accuracy: 52.6%\n",
      "iteration: 340 -> loss: 479474.0, training accuracy: 52.0%, validation accuracy: 54.8%\n",
      "iteration: 360 -> loss: 432306.0, training accuracy: 61.0%, validation accuracy: 55.0%\n",
      "iteration: 380 -> loss: 424581.0, training accuracy: 55.0%, validation accuracy: 55.8%\n",
      "iteration: 400 -> loss: 425737.0, training accuracy: 50.0%, validation accuracy: 54.7%\n",
      "iteration: 420 -> loss: 326403.0, training accuracy: 62.0%, validation accuracy: 55.4%\n",
      "iteration: 440 -> loss: 443762.0, training accuracy: 47.0%, validation accuracy: 56.7%\n",
      "iteration: 460 -> loss: 495981.0, training accuracy: 55.0%, validation accuracy: 58.8%\n",
      "iteration: 480 -> loss: 381662.0, training accuracy: 60.0%, validation accuracy: 57.5%\n",
      "iteration: 500 -> loss: 462372.0, training accuracy: 54.0%, validation accuracy: 54.8%\n",
      "iteration: 520 -> loss: 445349.0, training accuracy: 62.0%, validation accuracy: 56.5%\n",
      "iteration: 540 -> loss: 367273.0, training accuracy: 62.0%, validation accuracy: 56.3%\n",
      "iteration: 560 -> loss: 241269.0, training accuracy: 69.0%, validation accuracy: 57.8%\n",
      "iteration: 580 -> loss: 267125.0, training accuracy: 61.0%, validation accuracy: 57.7%\n",
      "iteration: 600 -> loss: 313760.0, training accuracy: 68.0%, validation accuracy: 58.6%\n",
      "iteration: 620 -> loss: 375443.0, training accuracy: 60.0%, validation accuracy: 57.3%\n",
      "iteration: 640 -> loss: 320214.0, training accuracy: 60.0%, validation accuracy: 62.1%\n",
      "iteration: 660 -> loss: 230778.0, training accuracy: 66.0%, validation accuracy: 59.8%\n",
      "iteration: 680 -> loss: 295684.0, training accuracy: 70.0%, validation accuracy: 60.8%\n",
      "iteration: 700 -> loss: 347370.0, training accuracy: 59.0%, validation accuracy: 61.0%\n",
      "iteration: 720 -> loss: 243712.0, training accuracy: 73.0%, validation accuracy: 60.8%\n",
      "iteration: 740 -> loss: 385154.0, training accuracy: 61.0%, validation accuracy: 59.8%\n",
      "iteration: 760 -> loss: 224511.0, training accuracy: 71.0%, validation accuracy: 59.4%\n",
      "iteration: 780 -> loss: 328761.0, training accuracy: 59.0%, validation accuracy: 62.6%\n",
      "iteration: 800 -> loss: 365975.0, training accuracy: 61.0%, validation accuracy: 63.3%\n",
      "iteration: 820 -> loss: 409262.0, training accuracy: 58.0%, validation accuracy: 59.6%\n",
      "iteration: 840 -> loss: 243889.0, training accuracy: 64.0%, validation accuracy: 61.7%\n",
      "iteration: 860 -> loss: 266784.0, training accuracy: 61.0%, validation accuracy: 63.5%\n",
      "iteration: 880 -> loss: 252418.0, training accuracy: 62.0%, validation accuracy: 61.4%\n",
      "iteration: 900 -> loss: 273852.0, training accuracy: 65.0%, validation accuracy: 63.7%\n",
      "iteration: 920 -> loss: 256963.0, training accuracy: 66.0%, validation accuracy: 62.9%\n",
      "iteration: 940 -> loss: 217257.0, training accuracy: 69.0%, validation accuracy: 64.8%\n",
      "iteration: 960 -> loss: 303136.0, training accuracy: 65.0%, validation accuracy: 61.4%\n",
      "iteration: 980 -> loss: 309125.0, training accuracy: 66.0%, validation accuracy: 65.1%\n",
      "iteration: 1000 -> loss: 341121.0, training accuracy: 54.0%, validation accuracy: 64.8%\n",
      "\n",
      "test accuracy: 66.7%\n"
     ]
    }
   ],
   "source": [
    "accuracies = []\n",
    "total_iterations = 1000\n",
    "batch_size = 100\n",
    "\n",
    "with tf.Session(graph=graph) as session:\n",
    "  tf.initialize_all_variables().run()\n",
    "  variable_saver = tf.train.Saver()\n",
    "\n",
    "  for iteration in range(total_iterations + 1):\n",
    "    batch_data = random.sample(training_data, batch_size)\n",
    "    batch_input_pixel_data = [pixel_data for _, pixel_data in batch_data]\n",
    "    batch_labels = [\n",
    "      all_labels[filename.split('-')[1]] for filename, _ in batch_data\n",
    "    ]\n",
    "    batch_training_data = {\n",
    "      tf_training_data: batch_input_pixel_data,\n",
    "      tf_training_labels: batch_labels,\n",
    "    }\n",
    "    _, step_loss, training_predictions = session.run(\n",
    "      [training_step, loss, training_estimate], feed_dict=batch_training_data)\n",
    "  \n",
    "    if (iteration % (total_iterations / 100)) == 0:\n",
    "      training_accuracy = calculate_accuracy(training_predictions, batch_labels)\n",
    "      validation_accuracy = calculate_accuracy(validation_estimate.eval(), validation_labels)\n",
    "      accuracies.append((iteration, training_accuracy, validation_accuracy))\n",
    "      if (iteration % (total_iterations / 50)) == 0:\n",
    "        print 'iteration: %s -> loss: %s, training accuracy: %0.1f%%, validation accuracy: %0.1f%%' % (\n",
    "          iteration, step_loss, training_accuracy, validation_accuracy)\n",
    "      if validation_accuracy > 85:\n",
    "        break\n",
    "  variable_saver.save(session, '/tmp/detect-color-model.ckpt', latest_filename='detect-color-checkpoint-list')\n",
    "  print '\\ntest accuracy: %0.1f%%' % calculate_accuracy(test_estimate.eval(), test_labels)"
   ]
  },
  {
   "cell_type": "markdown",
   "metadata": {},
   "source": [
    "---\n",
    "plot the accuracy vs iteration number\n",
    "\n",
    "---"
   ]
  },
  {
   "cell_type": "code",
   "execution_count": 5,
   "metadata": {
    "collapsed": false
   },
   "outputs": [
    {
     "data": {
      "image/png": "[encoded data removed]",
      "text/plain": [
       "<matplotlib.figure.Figure at 0x7f67c9101e50>"
      ]
     },
     "metadata": {},
     "output_type": "display_data"
    }
   ],
   "source": [
    "% matplotlib inline\n",
    "import matplotlib.pyplot as plt\n",
    "\n",
    "\n",
    "iterations, training_accuracies, validation_accuracies = zip(*accuracies)\n",
    "plt.plot(iterations, training_accuracies, 'r-', label='training')\n",
    "plt.plot(iterations, validation_accuracies, 'g-', label='validation')\n",
    "axes = plt.gca()\n",
    "_ = axes.set_ylim([0, 110])\n",
    "_ = plt.xlabel('iteration')\n",
    "_ = plt.ylabel('accuracy')\n",
    "_ = plt.legend(loc='best')"
   ]
  },
  {
   "cell_type": "code",
   "execution_count": null,
   "metadata": {
    "collapsed": true
   },
   "outputs": [],
   "source": []
  }
 ],
 "metadata": {
  "kernelspec": {
   "display_name": "Python 2",
   "language": "python",
   "name": "python2"
  },
  "language_info": {
   "codemirror_mode": {
    "name": "ipython",
    "version": 2
   },
   "file_extension": ".py",
   "mimetype": "text/x-python",
   "name": "python",
   "nbconvert_exporter": "python",
   "pygments_lexer": "ipython2",
   "version": "2.7.6"
  }
 },
 "nbformat": 4,
 "nbformat_minor": 0
}

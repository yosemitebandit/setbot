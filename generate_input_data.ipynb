{
 "cells": [
  {
   "cell_type": "markdown",
   "metadata": {},
   "source": [
    "---\n",
    "This notebook generates image variants from the vanilla SVG cards.\n",
    "\n",
    "---"
   ]
  },
  {
   "cell_type": "code",
   "execution_count": null,
   "metadata": {
    "collapsed": false
   },
   "outputs": [
    {
     "name": "stdout",
     "output_type": "stream",
     "text": [
      "generating 100000 images..\n",
      "0.8% complete.."
     ]
    }
   ],
   "source": [
    "import multiprocessing\n",
    "import os\n",
    "import random\n",
    "import sys\n",
    "import numpy as np\n",
    "from PIL import Image, ImageFilter\n",
    "\n",
    "\n",
    "random.seed(2)\n",
    "\n",
    "# Setup input and output directories.\n",
    "input_directory = 'card-images'\n",
    "output_directories = ('rgba-images', 'greyscaled-images', 'rgba-data', 'greyscaled-data')\n",
    "for output_directory in output_directories:\n",
    "  if not os.path.exists(output_directory):\n",
    "    os.makedirs(output_directory)\n",
    "  \n",
    "# Cropping params.\n",
    "original_card_width, original_card_height = 352, 550\n",
    "\n",
    "# Resizing params.\n",
    "card_width, card_height = 150, 150\n",
    "\n",
    "\n",
    "def preprocess(input_image_data):\n",
    "  \"\"\"Preprocess images.\n",
    "  \n",
    "  The input is a tuple: (path, param-dict).\n",
    "  \"\"\"\n",
    "  input_path, params = input_image_data\n",
    "  image = Image.open(input_path)\n",
    "  cropped_image = image.crop((0, 0, original_card_width, original_card_height))\n",
    "  intensified_image = cropped_image.point(lambda p: p * params['intensification'])\n",
    "  rotated_image = intensified_image.rotate(params['rotation'], expand=True, resample=Image.BICUBIC)\n",
    "  resized_image = rotated_image.resize((card_width, card_height), resample=Image.ANTIALIAS)\n",
    "  blurred_image = resized_image.filter(ImageFilter.GaussianBlur(params['blur']))\n",
    "  greyscaled_image = blurred_image.convert('L')\n",
    "  rgba_data = np.array(blurred_image).flatten()\n",
    "  greyscaled_data = np.array(greyscaled_image).flatten()\n",
    "  # Parse the input path.\n",
    "  filename = input_path.split('/')[-1]\n",
    "  params['number'] = filename.split('-')[0]\n",
    "  params['color'] = filename.split('-')[1]\n",
    "  params['texture'] = filename.split('-')[2]\n",
    "  params['shape'] = filename.split('-')[3].split('.png')[0]\n",
    "  # Save.\n",
    "  output_filename_base = (\n",
    "    '%(number)s-%(color)s-%(texture)s-%(shape)s-%(intensification)si-%(rotation)sdeg-%(blur)sb' % params)\n",
    "  rgba_image_path = os.path.join('rgba-images', '%s.png' % output_filename_base)\n",
    "  blurred_image.save(rgba_image_path)\n",
    "  greyscaled_image_path = os.path.join('greyscaled-images', '%s.png' % output_filename_base)\n",
    "  greyscaled_image.save(greyscaled_image_path)\n",
    "  rgba_data_path = os.path.join('rgba-data', '%s.png' % output_filename_base)\n",
    "  np.save(rgba_data_path, rgba_data)\n",
    "  greyscaled_data_path = os.path.join('greyscaled-data', '%s.png' % output_filename_base)\n",
    "  np.save(greyscaled_data_path, greyscaled_data)\n",
    "\n",
    "  \n",
    "# Intensification, rotation and blur params.\n",
    "intensification_range = np.arange(0.8, 1.2, 0.01)\n",
    "rotation_range = range(0, 30)\n",
    "rotation_range.extend(range(330, 359))\n",
    "blur_range = np.arange(0, 4, 0.1)\n",
    "\n",
    "# Image paths.\n",
    "image_paths = [os.path.join(input_directory, f) for f in os.listdir(input_directory)]\n",
    "\n",
    "# Build the inputs.\n",
    "input_number = 100000\n",
    "inputs = []\n",
    "for _ in range(input_number):\n",
    "  image_path = random.choice(image_paths)\n",
    "  params = {\n",
    "    'intensification': random.choice(intensification_range),\n",
    "    'rotation': random.choice(rotation_range),\n",
    "    'blur': random.choice(blur_range),\n",
    "  }\n",
    "  inputs.append((image_path, params))\n",
    "\n",
    "# Run it.\n",
    "print 'generating %s images..' % len(inputs)\n",
    "pool = multiprocessing.Pool()\n",
    "for i, _ in enumerate(pool.imap_unordered(preprocess, inputs, 1)):\n",
    "  sys.stdout.write('\\r%0.1f%% complete..' % (100. * i / len(inputs)))\n",
    "pool.close()\n",
    "pool.join()\n",
    "sys.stdout.write('\\r100% complete.')"
   ]
  },
  {
   "cell_type": "markdown",
   "metadata": {},
   "source": [
    "---\n",
    "Display a few.\n",
    "\n",
    "---"
   ]
  },
  {
   "cell_type": "code",
   "execution_count": null,
   "metadata": {
    "collapsed": false
   },
   "outputs": [],
   "source": [
    "from IPython import display\n",
    "\n",
    "output_directory = 'rgba-images'\n",
    "images = random.sample(os.listdir(output_directory), 5)\n",
    "for filename in images:\n",
    "  print filename\n",
    "  path = os.path.join(output_directory, filename)\n",
    "  display.display(display.Image(filename=path))"
   ]
  },
  {
   "cell_type": "code",
   "execution_count": null,
   "metadata": {
    "collapsed": true
   },
   "outputs": [],
   "source": []
  }
 ],
 "metadata": {
  "kernelspec": {
   "display_name": "Python 2",
   "language": "python",
   "name": "python2"
  },
  "language_info": {
   "codemirror_mode": {
    "name": "ipython",
    "version": 2
   },
   "file_extension": ".py",
   "mimetype": "text/x-python",
   "name": "python",
   "nbconvert_exporter": "python",
   "pygments_lexer": "ipython2",
   "version": "2.7.6"
  }
 },
 "nbformat": 4,
 "nbformat_minor": 0
}

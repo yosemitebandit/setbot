{
 "cells": [
  {
   "cell_type": "markdown",
   "metadata": {},
   "source": [
    "---\n",
    "This notebook generates image variants from the vanilla SVG cards.\n",
    "\n",
    "---"
   ]
  },
  {
   "cell_type": "code",
   "execution_count": 6,
   "metadata": {
    "collapsed": false
   },
   "outputs": [
    {
     "name": "stdout",
     "output_type": "stream",
     "text": [
      "generating 162000 images..\n",
      "100% complete."
     ]
    }
   ],
   "source": [
    "import multiprocessing\n",
    "import os\n",
    "import random\n",
    "import sys\n",
    "\n",
    "import numpy as np\n",
    "from PIL import Image, ImageFilter, ImageDraw\n",
    "\n",
    "\n",
    "# Setup input and output directories.\n",
    "input_directory = 'card-images'\n",
    "output_directories = ('rgba-images', 'rgba-data')\n",
    "for output_directory in output_directories:\n",
    "  if not os.path.exists(output_directory):\n",
    "    os.makedirs(output_directory)\n",
    "\n",
    "# Run vars.\n",
    "use_multiple_processors = True\n",
    "variations_per_image = 2000\n",
    "  \n",
    "# Cropping and resizing params.\n",
    "original_card_width, original_card_height = 352, 550\n",
    "aspect_ratio = 0.64\n",
    "card_width = 100\n",
    "card_height = int(card_width / aspect_ratio)\n",
    "\n",
    "# White balance, rotation, blur and obfuscation params.\n",
    "min_channel_high_end = 0.4\n",
    "max_channel_low_end = 0.4\n",
    "max_rotation = 5\n",
    "max_blur = 3\n",
    "max_rectangles = 10\n",
    "max_rectangle_width, max_rectangle_height = card_width * 0.6, card_height * 0.6\n",
    "\n",
    "\n",
    "def preprocess(input_path):\n",
    "  \"\"\"Preprocess images.\"\"\"\n",
    "  # Load.\n",
    "  image = Image.open(input_path)\n",
    "  \n",
    "  # Crop.\n",
    "  image = image.crop((0, 0, original_card_width, original_card_height))\n",
    "  \n",
    "  # Resize.\n",
    "  image = image.resize((card_width, card_height), resample=Image.ANTIALIAS)\n",
    "    \n",
    "  # Rotate.\n",
    "  rotation = random.choice([-1, 1]) * max_rotation * random.random()\n",
    "  if rotation < 0:\n",
    "    rotation += 360\n",
    "  image = image.rotate(rotation, expand=False, resample=Image.BICUBIC)\n",
    "    \n",
    "  # Obfuscate.\n",
    "  drawing = ImageDraw.Draw(image)\n",
    "  rectangles = int(round(random.random() * max_rectangles))\n",
    "  for _ in range(rectangles):\n",
    "    width = round(random.random() * max_rectangle_width)\n",
    "    height = round(random.random() * max_rectangle_height)\n",
    "    color = tuple([random.choice(np.arange(0, 256)) for _ in range(3)])\n",
    "    x_shift = round(random.random() * card_width)\n",
    "    y_shift = round(random.random() * card_height)\n",
    "    drawing.rectangle([x_shift, y_shift, x_shift+width, y_shift+height], outline=color, fill=color)\n",
    "    \n",
    "  # Adjust white balance.\n",
    "  rmin = random.random()*min_channel_high_end\n",
    "  gmin = random.random()*min_channel_high_end\n",
    "  bmin = random.random()*min_channel_high_end\n",
    "  rmax = random.random()*max_channel_low_end + 1 - max_channel_low_end\n",
    "  gmax = random.random()*max_channel_low_end + 1 - max_channel_low_end\n",
    "  bmax = random.random()*max_channel_low_end + 1 - max_channel_low_end\n",
    "  new_image = np.empty((card_height, card_width, 3), dtype=np.float32)\n",
    "  image = np.multiply(np.array(image), 1/255.)\n",
    "  new_image[:, :, 0] = np.add(np.multiply(image[:, :, 0], (rmax-rmin)), rmin)\n",
    "  new_image[:, :, 1] = np.add(np.multiply(image[:, :, 1], (gmax-gmin)), gmin)\n",
    "  new_image[:, :, 2] = np.add(np.multiply(image[:, :, 2], (bmax-bmin)), bmin)\n",
    "  new_image = np.multiply(new_image, 255)\n",
    "  image = Image.fromarray(np.uint8(new_image))\n",
    "\n",
    "  # Blur.\n",
    "  blur = max_blur * random.random()\n",
    "  image = image.filter(ImageFilter.GaussianBlur(blur))\n",
    "  \n",
    "  # Get data.\n",
    "  rgba_data = np.array(image).reshape(3, card_height, card_width)\n",
    "  \n",
    "  # Parse the input path.\n",
    "  filename = input_path.split('/')[-1]\n",
    "  number = filename.split('-')[0]\n",
    "  color = filename.split('-')[1]\n",
    "  texture = filename.split('-')[2]\n",
    "  shape = filename.split('-')[3].split('.png')[0]\n",
    "  \n",
    "  # Save.\n",
    "  output_filename_base = '%s-%s-%s-%s' % (number, color, texture, shape)\n",
    "  output_filename_base += '-%0.2frmin-%0.2fgmin-%0.2fbmin-%0.2frmax-%0.2fgmax-%0.2fbmax' % (\n",
    "    rmin, gmin, bmin, rmax, gmax, bmax)\n",
    "  output_filename_base += '-%0.2fdeg' % rotation\n",
    "  output_filename_base += '-%0.2fblur' % blur\n",
    "  output_filename_base += '-%srect' % rectangles\n",
    "  rgba_image_path = os.path.join('rgba-images', '%s.png' % output_filename_base)\n",
    "  image.save(rgba_image_path)\n",
    "  rgba_data_path = os.path.join('rgba-data', '%s.png' % output_filename_base)\n",
    "  np.save(rgba_data_path, rgba_data)\n",
    "\n",
    "# Input params.\n",
    "image_paths = [os.path.join(input_directory, f) for f in os.listdir(input_directory)]\n",
    "inputs = image_paths * variations_per_image\n",
    "\n",
    "# Run it.\n",
    "print 'generating %s images..' % len(inputs)\n",
    "if use_multiple_processors:\n",
    "  pool = multiprocessing.Pool()\n",
    "  for i, _ in enumerate(pool.imap_unordered(preprocess, inputs, 1)):\n",
    "    sys.stdout.write('\\r%0.1f%% complete..' % (100. * i / len(inputs)))\n",
    "  pool.close()\n",
    "  pool.join()\n",
    "  sys.stdout.write('\\r100% complete.')\n",
    "else:\n",
    "  map(preprocess, inputs)\n",
    "  print 'done.'"
   ]
  },
  {
   "cell_type": "markdown",
   "metadata": {},
   "source": [
    "---\n",
    "Display a few.\n",
    "\n",
    "---"
   ]
  },
  {
   "cell_type": "code",
   "execution_count": 7,
   "metadata": {
    "collapsed": false
   },
   "outputs": [
    {
     "name": "stdout",
     "output_type": "stream",
     "text": [
      "2-purple-empty-diamond-0.00rmin-0.34gmin-0.14bmin-0.71rmax-0.81gmax-0.73bmax-357.92deg-0.75blur-6rect.png\n"
     ]
    },
    {
     "data": {
      "image/png": "[encoded data removed]",
      "text/plain": [
       "<IPython.core.display.Image object>"
      ]
     },
     "metadata": {},
     "output_type": "display_data"
    },
    {
     "name": "stdout",
     "output_type": "stream",
     "text": [
      "3-purple-empty-oval-0.17rmin-0.23gmin-0.22bmin-0.72rmax-0.89gmax-0.82bmax-358.32deg-0.58blur-10rect.png\n"
     ]
    },
    {
     "data": {
      "image/png": "[encoded data removed]",
      "text/plain": [
       "<IPython.core.display.Image object>"
      ]
     },
     "metadata": {},
     "output_type": "display_data"
    },
    {
     "name": "stdout",
     "output_type": "stream",
     "text": [
      "1-red-solid-diamond-0.39rmin-0.24gmin-0.17bmin-0.67rmax-0.96gmax-0.71bmax-356.02deg-1.09blur-10rect.png\n"
     ]
    },
    {
     "data": {
      "image/png": "[encoded data removed]",
      "text/plain": [
       "<IPython.core.display.Image object>"
      ]
     },
     "metadata": {},
     "output_type": "display_data"
    },
    {
     "name": "stdout",
     "output_type": "stream",
     "text": [
      "3-red-empty-bean-0.20rmin-0.36gmin-0.40bmin-0.87rmax-0.75gmax-0.61bmax-0.27deg-2.14blur-10rect.png\n"
     ]
    },
    {
     "data": {
      "image/png": "[encoded data removed]",
      "text/plain": [
       "<IPython.core.display.Image object>"
      ]
     },
     "metadata": {},
     "output_type": "display_data"
    },
    {
     "name": "stdout",
     "output_type": "stream",
     "text": [
      "1-red-striped-oval-0.26rmin-0.11gmin-0.08bmin-0.81rmax-0.94gmax-0.89bmax-1.93deg-1.54blur-6rect.png\n"
     ]
    },
    {
     "data": {
      "image/png": "[encoded data removed]",
      "text/plain": [
       "<IPython.core.display.Image object>"
      ]
     },
     "metadata": {},
     "output_type": "display_data"
    },
    {
     "name": "stdout",
     "output_type": "stream",
     "text": [
      "2-red-solid-diamond-0.02rmin-0.10gmin-0.17bmin-0.66rmax-0.74gmax-0.69bmax-357.76deg-1.46blur-2rect.png\n"
     ]
    },
    {
     "data": {
      "image/png": "[encoded data removed]",
      "text/plain": [
       "<IPython.core.display.Image object>"
      ]
     },
     "metadata": {},
     "output_type": "display_data"
    },
    {
     "name": "stdout",
     "output_type": "stream",
     "text": [
      "1-green-empty-oval-0.07rmin-0.39gmin-0.06bmin-0.90rmax-0.86gmax-0.94bmax-0.47deg-0.84blur-3rect.png\n"
     ]
    },
    {
     "data": {
      "image/png": "[encoded data removed]",
      "text/plain": [
       "<IPython.core.display.Image object>"
      ]
     },
     "metadata": {},
     "output_type": "display_data"
    },
    {
     "name": "stdout",
     "output_type": "stream",
     "text": [
      "1-purple-striped-diamond-0.21rmin-0.35gmin-0.05bmin-0.94rmax-0.84gmax-0.63bmax-355.68deg-0.80blur-3rect.png\n"
     ]
    },
    {
     "data": {
      "image/png": "[encoded data removed]",
      "text/plain": [
       "<IPython.core.display.Image object>"
      ]
     },
     "metadata": {},
     "output_type": "display_data"
    },
    {
     "name": "stdout",
     "output_type": "stream",
     "text": [
      "2-purple-solid-bean-0.31rmin-0.33gmin-0.05bmin-0.62rmax-0.61gmax-0.86bmax-0.41deg-0.47blur-4rect.png\n"
     ]
    },
    {
     "data": {
      "image/png": "[encoded data removed]",
      "text/plain": [
       "<IPython.core.display.Image object>"
      ]
     },
     "metadata": {},
     "output_type": "display_data"
    },
    {
     "name": "stdout",
     "output_type": "stream",
     "text": [
      "2-red-solid-oval-0.18rmin-0.02gmin-0.16bmin-0.63rmax-0.67gmax-0.67bmax-359.34deg-0.37blur-10rect.png\n"
     ]
    },
    {
     "data": {
      "image/png": "[encoded data removed]",
      "text/plain": [
       "<IPython.core.display.Image object>"
      ]
     },
     "metadata": {},
     "output_type": "display_data"
    }
   ],
   "source": [
    "from IPython import display\n",
    "\n",
    "\n",
    "output_directory = 'rgba-images'\n",
    "images = random.sample(os.listdir(output_directory), 10)\n",
    "for filename in images:\n",
    "  print filename\n",
    "  path = os.path.join(output_directory, filename)\n",
    "  display.display(display.Image(filename=path))"
   ]
  },
  {
   "cell_type": "code",
   "execution_count": null,
   "metadata": {
    "collapsed": true
   },
   "outputs": [],
   "source": []
  }
 ],
 "metadata": {
  "kernelspec": {
   "display_name": "Python 2",
   "language": "python",
   "name": "python2"
  },
  "language_info": {
   "codemirror_mode": {
    "name": "ipython",
    "version": 2
   },
   "file_extension": ".py",
   "mimetype": "text/x-python",
   "name": "python",
   "nbconvert_exporter": "python",
   "pygments_lexer": "ipython2",
   "version": "2.7.6"
  }
 },
 "nbformat": 4,
 "nbformat_minor": 0
}

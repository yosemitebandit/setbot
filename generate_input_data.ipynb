{
 "cells": [
  {
   "cell_type": "markdown",
   "metadata": {},
   "source": [
    "---\n",
    "This notebook generates image variants from the vanilla SVG cards.\n",
    "\n",
    "---"
   ]
  },
  {
   "cell_type": "code",
   "execution_count": 31,
   "metadata": {
    "collapsed": false
   },
   "outputs": [
    {
     "name": "stdout",
     "output_type": "stream",
     "text": [
      "generating 81 images..\n",
      "done.\n"
     ]
    }
   ],
   "source": [
    "import multiprocessing\n",
    "import os\n",
    "import random\n",
    "import sys\n",
    "import numpy as np\n",
    "from PIL import Image, ImageFilter, ImageDraw\n",
    "\n",
    "\n",
    "# Setup input and output directories.\n",
    "input_directory = 'card-images'\n",
    "output_directories = ('rgba-images', 'greyscaled-images', 'rgba-data', 'greyscaled-data')\n",
    "for output_directory in output_directories:\n",
    "  if not os.path.exists(output_directory):\n",
    "    os.makedirs(output_directory)\n",
    "\n",
    "# Run vars.\n",
    "use_multiple_processors = False\n",
    "variations_per_image = 1\n",
    "  \n",
    "# Cropping and resizing params.\n",
    "original_card_width, original_card_height = 352, 550\n",
    "aspect_ratio = 0.64\n",
    "card_width = 50\n",
    "card_height = int(card_width / aspect_ratio)\n",
    "\n",
    "# White balance, rotation, blur and obfuscation params.\n",
    "min_channel_high_end = 0.2\n",
    "max_channel_low_end = 0.2\n",
    "max_rotation = 5\n",
    "max_blur = 3\n",
    "max_rectangles = 10\n",
    "max_rectangle_width, max_rectangle_height = card_width * 0.8, card_height * 0.8\n",
    "\n",
    "# Seed the rng.\n",
    "random.seed(2)\n",
    "\n",
    "\n",
    "def preprocess(input_path):\n",
    "  \"\"\"Preprocess images.\"\"\"\n",
    "  # Load.\n",
    "  image = Image.open(input_path)\n",
    "  \n",
    "  # Crop.\n",
    "  image = image.crop((0, 0, original_card_width, original_card_height))\n",
    "  \n",
    "  # Resize.\n",
    "  image = image.resize((card_width, card_height), resample=Image.ANTIALIAS)\n",
    "    \n",
    "  # Rotate.\n",
    "  rotation = random.choice([-1, 1]) * max_rotation * random.random()\n",
    "  if rotation < 0:\n",
    "    rotation += 360\n",
    "  image = image.rotate(rotation, expand=False, resample=Image.BICUBIC)\n",
    "    \n",
    "  # Obfuscate.\n",
    "  drawing = ImageDraw.Draw(image)\n",
    "  rectangles = int(round(random.random() * max_rectangles))\n",
    "  for _ in range(rectangles):\n",
    "    width = round(random.random() * max_rectangle_width)\n",
    "    height = round(random.random() * max_rectangle_height)\n",
    "    color = tuple([random.choice(np.arange(0, 256)) for _ in range(3)])\n",
    "    x_shift = round(random.random() * card_width)\n",
    "    y_shift = round(random.random() * card_height)\n",
    "    drawing.rectangle([x_shift, y_shift, x_shift+width, y_shift+height], outline=color, fill=color)\n",
    "    \n",
    "  # Adjust white balance.\n",
    "  rmin = random.random()*min_channel_high_end\n",
    "  gmin = random.random()*min_channel_high_end\n",
    "  bmin = random.random()*min_channel_high_end\n",
    "  rmax = random.random()*max_channel_low_end + 1 - max_channel_low_end\n",
    "  gmax = random.random()*max_channel_low_end + 1 - max_channel_low_end\n",
    "  bmax = random.random()*max_channel_low_end + 1 - max_channel_low_end\n",
    "  new_image = np.empty((card_height, card_width, 3), dtype=np.float32)\n",
    "  image = np.multiply(np.array(image), 1/255.)\n",
    "  new_image[:, :, 0] = np.add(np.multiply(image[:, :, 0], (rmax-rmin)), rmin)\n",
    "  new_image[:, :, 1] = np.add(np.multiply(image[:, :, 1], (gmax-gmin)), gmin)\n",
    "  new_image[:, :, 2] = np.add(np.multiply(image[:, :, 2], (bmax-bmin)), bmin)\n",
    "  new_image = np.multiply(new_image, 255)\n",
    "  image = Image.fromarray(np.uint8(new_image))\n",
    "\n",
    "  # Blur.\n",
    "  blur = max_blur * random.random()\n",
    "  image = image.filter(ImageFilter.GaussianBlur(blur))\n",
    "\n",
    "  # Greyscale.\n",
    "  greyscaled_image = image.convert('L')\n",
    "  \n",
    "  # Get data.\n",
    "  rgba_data = np.array(image).flatten()\n",
    "  greyscaled_data = np.array(greyscaled_image).flatten()\n",
    "  \n",
    "  # Parse the input path.\n",
    "  filename = input_path.split('/')[-1]\n",
    "  number = filename.split('-')[0]\n",
    "  color = filename.split('-')[1]\n",
    "  texture = filename.split('-')[2]\n",
    "  shape = filename.split('-')[3].split('.png')[0]\n",
    "  \n",
    "  # Save.\n",
    "  output_filename_base = '%s-%s-%s-%s' % (number, color, texture, shape)\n",
    "  output_filename_base += '-%0.2frmin-%0.2fgmin-%0.2fbmin-%0.2frmax-%0.2fgmax-%0.2fbmax' % (\n",
    "    rmin, gmin, bmin, rmax, gmax, bmax)\n",
    "  output_filename_base += '-%0.2fdeg' % rotation\n",
    "  output_filename_base += '-%0.2fblur' % blur\n",
    "  output_filename_base += '-%srect' % rectangles\n",
    "  rgba_image_path = os.path.join('rgba-images', '%s.png' % output_filename_base)\n",
    "  image.save(rgba_image_path)\n",
    "  greyscaled_image_path = os.path.join('greyscaled-images', '%s.png' % output_filename_base)\n",
    "  greyscaled_image.save(greyscaled_image_path)\n",
    "  rgba_data_path = os.path.join('rgba-data', '%s.png' % output_filename_base)\n",
    "  np.save(rgba_data_path, rgba_data)\n",
    "  greyscaled_data_path = os.path.join('greyscaled-data', '%s.png' % output_filename_base)\n",
    "  np.save(greyscaled_data_path, greyscaled_data)\n",
    "\n",
    "\n",
    "# Input params.\n",
    "image_paths = [os.path.join(input_directory, f) for f in os.listdir(input_directory)]\n",
    "inputs = image_paths * variations_per_image\n",
    "\n",
    "# Run it.\n",
    "print 'generating %s images..' % len(inputs)\n",
    "if use_multiple_processors:\n",
    "  pool = multiprocessing.Pool()\n",
    "  for i, _ in enumerate(pool.imap_unordered(preprocess, inputs, 1)):\n",
    "    sys.stdout.write('\\r%0.1f%% complete..' % (100. * i / len(inputs)))\n",
    "  pool.close()\n",
    "  pool.join()\n",
    "  sys.stdout.write('\\r100% complete.')\n",
    "else:\n",
    "  map(preprocess, inputs)\n",
    "  print 'done.'"
   ]
  },
  {
   "cell_type": "markdown",
   "metadata": {},
   "source": [
    "---\n",
    "Display a few.\n",
    "\n",
    "---"
   ]
  },
  {
   "cell_type": "code",
   "execution_count": 32,
   "metadata": {
    "collapsed": false
   },
   "outputs": [
    {
     "name": "stdout",
     "output_type": "stream",
     "text": [
      "2-purple-solid-oval-0.04rmin-0.15gmin-0.10bmin-0.91rmax-0.97gmax-0.81bmax-1.09deg-1.64blur-1rect.png\n"
     ]
    },
    {
     "data": {
      "image/png": "[encoded data removed]",
      "text/plain": [
       "<IPython.core.display.Image object>"
      ]
     },
     "metadata": {},
     "output_type": "display_data"
    },
    {
     "name": "stdout",
     "output_type": "stream",
     "text": [
      "2-purple-striped-oval-0.15rmin-0.04gmin-0.19bmin-0.89rmax-0.82gmax-0.98bmax-357.03deg-0.92blur-8rect.png\n"
     ]
    },
    {
     "data": {
      "image/png": "[encoded data removed]",
      "text/plain": [
       "<IPython.core.display.Image object>"
      ]
     },
     "metadata": {},
     "output_type": "display_data"
    },
    {
     "name": "stdout",
     "output_type": "stream",
     "text": [
      "1-purple-striped-diamond-0.11rmin-0.04gmin-0.04bmin-0.92rmax-0.93gmax-0.93bmax-358.92deg-2.23blur-4rect.png\n"
     ]
    },
    {
     "data": {
      "image/png": "[encoded data removed]",
      "text/plain": [
       "<IPython.core.display.Image object>"
      ]
     },
     "metadata": {},
     "output_type": "display_data"
    },
    {
     "name": "stdout",
     "output_type": "stream",
     "text": [
      "3-red-solid-bean-0.11rmin-0.18gmin-0.18bmin-0.84rmax-1.00gmax-0.89bmax-355.71deg-0.39blur-0rect.png\n"
     ]
    },
    {
     "data": {
      "image/png": "[encoded data removed]",
      "text/plain": [
       "<IPython.core.display.Image object>"
      ]
     },
     "metadata": {},
     "output_type": "display_data"
    },
    {
     "name": "stdout",
     "output_type": "stream",
     "text": [
      "3-purple-solid-diamond-0.15rmin-0.19gmin-0.13bmin-0.87rmax-0.98gmax-0.80bmax-0.13deg-2.26blur-2rect.png\n"
     ]
    },
    {
     "data": {
      "image/png": "[encoded data removed]",
      "text/plain": [
       "<IPython.core.display.Image object>"
      ]
     },
     "metadata": {},
     "output_type": "display_data"
    },
    {
     "name": "stdout",
     "output_type": "stream",
     "text": [
      "3-red-solid-diamond-0.03rmin-0.03gmin-0.07bmin-0.81rmax-0.93gmax-0.87bmax-2.66deg-2.04blur-10rect.png\n"
     ]
    },
    {
     "data": {
      "image/png": "[encoded data removed]",
      "text/plain": [
       "<IPython.core.display.Image object>"
      ]
     },
     "metadata": {},
     "output_type": "display_data"
    },
    {
     "name": "stdout",
     "output_type": "stream",
     "text": [
      "3-green-striped-diamond-0.07rmin-0.15gmin-0.07bmin-1.00rmax-0.89gmax-0.80bmax-2.85deg-1.46blur-5rect.png\n"
     ]
    },
    {
     "data": {
      "image/png": "[encoded data removed]",
      "text/plain": [
       "<IPython.core.display.Image object>"
      ]
     },
     "metadata": {},
     "output_type": "display_data"
    },
    {
     "name": "stdout",
     "output_type": "stream",
     "text": [
      "3-purple-striped-bean-0.15rmin-0.01gmin-0.14bmin-0.94rmax-0.83gmax-0.95bmax-2.67deg-2.46blur-7rect.png\n"
     ]
    },
    {
     "data": {
      "image/png": "[encoded data removed]",
      "text/plain": [
       "<IPython.core.display.Image object>"
      ]
     },
     "metadata": {},
     "output_type": "display_data"
    },
    {
     "name": "stdout",
     "output_type": "stream",
     "text": [
      "1-purple-striped-oval-0.15rmin-0.16gmin-0.17bmin-0.92rmax-0.81gmax-0.84bmax-2.38deg-0.33blur-0rect.png\n"
     ]
    },
    {
     "data": {
      "image/png": "[encoded data removed]",
      "text/plain": [
       "<IPython.core.display.Image object>"
      ]
     },
     "metadata": {},
     "output_type": "display_data"
    },
    {
     "name": "stdout",
     "output_type": "stream",
     "text": [
      "3-green-empty-diamond-0.14rmin-0.11gmin-0.18bmin-0.92rmax-0.81gmax-0.97bmax-357.28deg-0.02blur-8rect.png\n"
     ]
    },
    {
     "data": {
      "image/png": "[encoded data removed]",
      "text/plain": [
       "<IPython.core.display.Image object>"
      ]
     },
     "metadata": {},
     "output_type": "display_data"
    }
   ],
   "source": [
    "from IPython import display\n",
    "\n",
    "\n",
    "output_directory = 'rgba-images'\n",
    "images = random.sample(os.listdir(output_directory), 10)\n",
    "for filename in images:\n",
    "  print filename\n",
    "  path = os.path.join(output_directory, filename)\n",
    "  display.display(display.Image(filename=path))"
   ]
  },
  {
   "cell_type": "code",
   "execution_count": null,
   "metadata": {
    "collapsed": true
   },
   "outputs": [],
   "source": []
  }
 ],
 "metadata": {
  "kernelspec": {
   "display_name": "Python 2",
   "language": "python",
   "name": "python2"
  },
  "language_info": {
   "codemirror_mode": {
    "name": "ipython",
    "version": 2
   },
   "file_extension": ".py",
   "mimetype": "text/x-python",
   "name": "python",
   "nbconvert_exporter": "python",
   "pygments_lexer": "ipython2",
   "version": "2.7.10"
  }
 },
 "nbformat": 4,
 "nbformat_minor": 0
}

{
 "cells": [
  {
   "cell_type": "markdown",
   "metadata": {},
   "source": [
    "---\n",
    "we'll use tensorflow to predict the number of shapes in each image -- first let's get the pixel data, saving it as `.npy` files in `greyscale-data`\n",
    "\n",
    "---"
   ]
  },
  {
   "cell_type": "code",
   "execution_count": 32,
   "metadata": {
    "collapsed": false
   },
   "outputs": [],
   "source": [
    "import os\n",
    "import numpy as np\n",
    "import png\n",
    "\n",
    "\n",
    "input_directory = 'greyscale-images'\n",
    "output_directory = 'greyscale-data'\n",
    "if not os.path.exists(output_directory):\n",
    "  os.makedirs(output_directory)\n",
    "\n",
    "for filename in os.listdir(input_directory):\n",
    "  path = os.path.join(input_directory, filename)\n",
    "  with open(path, 'rb') as image_file:\n",
    "    reader = png.Reader(file=image_file)\n",
    "    _, _, pixels, _ = reader.asDirect()\n",
    "    data = np.array([x / 255. for row in pixels for x in row])\n",
    "  output_filename = '%s.npy' % filename.split('.')[0]\n",
    "  output_path = os.path.join(output_directory, output_filename)\n",
    "  np.save(output_path, data)"
   ]
  },
  {
   "cell_type": "markdown",
   "metadata": {},
   "source": [
    "---\n",
    "load data\n",
    "\n",
    "---"
   ]
  },
  {
   "cell_type": "code",
   "execution_count": 37,
   "metadata": {
    "collapsed": false
   },
   "outputs": [],
   "source": [
    "import os\n",
    "import numpy as np\n",
    "\n",
    "input_directory = 'greyscale-data'\n",
    "\n",
    "# Load all the data into an array.\n",
    "# Each element is a tuple: (filename, numpy data).\n",
    "# The filename structure is \"<number>-<color>-<texture>-<shape>-<rotation>.png\"\n",
    "data = [\n",
    "  (f, np.load(os.path.join(input_directory, f))) for f in os.listdir(input_directory)\n",
    "]"
   ]
  },
  {
   "cell_type": "code",
   "execution_count": 38,
   "metadata": {
    "collapsed": false
   },
   "outputs": [
    {
     "name": "stdout",
     "output_type": "stream",
     "text": [
      "iteration: 0 -> accuracy: 0.333333\n",
      "iteration: 100 -> accuracy: 0.361111\n",
      "iteration: 200 -> accuracy: 0.503086\n",
      "iteration: 300 -> accuracy: 0.503086\n",
      "iteration: 400 -> accuracy: 0.425926\n",
      "iteration: 500 -> accuracy: 0.354938\n",
      "iteration: 600 -> accuracy: 0.583333\n",
      "iteration: 700 -> accuracy: 0.481481\n",
      "iteration: 800 -> accuracy: 0.54784\n",
      "iteration: 900 -> accuracy: 0.532407\n",
      "done.\n"
     ]
    }
   ],
   "source": [
    "import random\n",
    "import tensorflow as tf\n",
    "\n",
    "\n",
    "input_directory = 'greyscale-data'\n",
    "card_width, card_height = 150, 150\n",
    "\n",
    "x = tf.placeholder(tf.float32, shape=[None, card_width*card_height])\n",
    "W = tf.Variable(tf.zeros([card_width*card_height, 3]))\n",
    "b = tf.Variable(tf.zeros([3]))\n",
    "y = tf.nn.softmax(tf.matmul(x, W) + b)\n",
    "y_ = tf.placeholder(tf.float32, [None, 3])\n",
    "\n",
    "cross_entropy = -tf.reduce_sum(y_ * tf.log(y))\n",
    "train_step = tf.train.GradientDescentOptimizer(0.000001).minimize(cross_entropy)\n",
    "\n",
    "session = tf.Session()\n",
    "session.run(tf.initialize_all_variables())\n",
    "\n",
    "correct_prediction = tf.equal(tf.argmax(y, 1), tf.argmax(y_, 1))\n",
    "accuracy = tf.reduce_mean(tf.cast(correct_prediction, tf.float32))\n",
    "\n",
    "kinds = [\n",
    "    [1.0, 0.0, 0.0],\n",
    "    [0.0, 1.0, 0.0],\n",
    "    [0.0, 0.0, 1.0],\n",
    "]\n",
    "\n",
    "all_xs = [image_data for _, image_data in data]\n",
    "all_ys = [kinds[int(f.split('-')[0]) - 1] for f, _ in data]\n",
    "\n",
    "accuracies = []\n",
    "steps = 1000\n",
    "for i in range(steps):\n",
    "  batch = random.sample(data, 10)\n",
    "  batch_xs = [image_data for _, image_data in batch]\n",
    "  batch_ys = [kinds[int(f.split('-')[0]) - 1] for f, _ in batch]\n",
    "  session.run(train_step, feed_dict={x: batch_xs, y_: batch_ys})\n",
    "  if (i % 10) == 0:\n",
    "    a = session.run(accuracy, feed_dict={x: all_xs, y_: all_ys})\n",
    "    accuracies.append(a)\n",
    "    if (i % 100) == 0:\n",
    "      print 'iteration: %s -> accuracy: %s' % (i, a)\n",
    "\n",
    "print 'done.'"
   ]
  },
  {
   "cell_type": "markdown",
   "metadata": {
    "collapsed": true
   },
   "source": [
    "---\n",
    "plot the accuracy vs iteration number\n",
    "\n",
    "---"
   ]
  },
  {
   "cell_type": "code",
   "execution_count": 39,
   "metadata": {
    "collapsed": false
   },
   "outputs": [
    {
     "data": {
      "image/png": "[encoded data removed]",
      "text/plain": [
       "<matplotlib.figure.Figure at 0x7f5731449350>"
      ]
     },
     "metadata": {},
     "output_type": "display_data"
    }
   ],
   "source": [
    "% matplotlib inline\n",
    "import matplotlib.pyplot as plt\n",
    "\n",
    "plt.plot(accuracies, 'bo')\n",
    "plt.plot(accuracies, 'k-')\n",
    "_ = plt.xlabel('iteration')\n",
    "_ = plt.ylabel('accuracy')"
   ]
  },
  {
   "cell_type": "code",
   "execution_count": null,
   "metadata": {
    "collapsed": true
   },
   "outputs": [],
   "source": []
  }
 ],
 "metadata": {
  "kernelspec": {
   "display_name": "Python 2",
   "language": "python",
   "name": "python2"
  },
  "language_info": {
   "codemirror_mode": {
    "name": "ipython",
    "version": 2
   },
   "file_extension": ".py",
   "mimetype": "text/x-python",
   "name": "python",
   "nbconvert_exporter": "python",
   "pygments_lexer": "ipython2",
   "version": "2.7.6"
  }
 },
 "nbformat": 4,
 "nbformat_minor": 0
}

{
 "cells": [
  {
   "cell_type": "markdown",
   "metadata": {},
   "source": [
    "---\n",
    "we'll use tensorflow to predict the number of shapes in each image.\n",
    "\n",
    "first let's get the pixel data, saving it as `.npy` files in `greyscale-data`\n",
    "\n",
    "---"
   ]
  },
  {
   "cell_type": "code",
   "execution_count": 1,
   "metadata": {
    "collapsed": false
   },
   "outputs": [],
   "source": [
    "import os\n",
    "import numpy as np\n",
    "import png\n",
    "\n",
    "\n",
    "input_directory = 'greyscale-images'\n",
    "output_directory = 'greyscale-data'\n",
    "if not os.path.exists(output_directory):\n",
    "  os.makedirs(output_directory)\n",
    "\n",
    "for filename in os.listdir(input_directory):\n",
    "  path = os.path.join(input_directory, filename)\n",
    "  with open(path, 'rb') as image_file:\n",
    "    reader = png.Reader(file=image_file)\n",
    "    _, _, pixels, _ = reader.asDirect()\n",
    "    data = np.array([x / 255. for row in pixels for x in row])\n",
    "  output_filename = '%s.npy' % filename.split('.')[0]\n",
    "  output_path = os.path.join(output_directory, output_filename)\n",
    "  np.save(output_path, data)"
   ]
  },
  {
   "cell_type": "markdown",
   "metadata": {},
   "source": [
    "---\n",
    "load data into various structures for later\n",
    "\n",
    "---"
   ]
  },
  {
   "cell_type": "code",
   "execution_count": 2,
   "metadata": {
    "collapsed": false
   },
   "outputs": [],
   "source": [
    "input_directory = 'greyscale-data'\n",
    "\n",
    "# Load all the data into an array.\n",
    "# Each element is a tuple: (filename, numpy data).\n",
    "# The filename structure is \"<number>-<color>-<texture>-<shape>-<rotation>.png\"\n",
    "all_data = [\n",
    "  (f, np.load(os.path.join(input_directory, f))) for f in os.listdir(input_directory)\n",
    "]\n",
    "\n",
    "# Grab all the input data into a separate array.\n",
    "all_input_pixel_data = [pixel_data for _, pixel_data in all_data]\n",
    "\n",
    "# Each filename, in its text, has an embedded \"number of shapes.\"\n",
    "# We need to convert those classes (the output ground truth) into a category array.\n",
    "possible_categories = [\n",
    "    [1., 0., 0.],\n",
    "    [0., 1., 0.],\n",
    "    [0., 0., 1.],\n",
    "]\n",
    "all_output_categories = [\n",
    "  possible_categories[int(filename.split('-')[0]) - 1] for filename, _ in all_data\n",
    "]"
   ]
  },
  {
   "cell_type": "markdown",
   "metadata": {},
   "source": [
    "---\n",
    "exactly how many input datapoints do we have again?\n",
    "\n",
    "---"
   ]
  },
  {
   "cell_type": "code",
   "execution_count": 32,
   "metadata": {
    "collapsed": false
   },
   "outputs": [
    {
     "name": "stdout",
     "output_type": "stream",
     "text": [
      "648\n"
     ]
    }
   ],
   "source": [
    "print len(all_input_pixel_data)"
   ]
  },
  {
   "cell_type": "markdown",
   "metadata": {},
   "source": [
    "---\n",
    "setup tensorflow\n",
    "\n",
    "---"
   ]
  },
  {
   "cell_type": "code",
   "execution_count": 29,
   "metadata": {
    "collapsed": false
   },
   "outputs": [],
   "source": [
    "import random\n",
    "import tensorflow as tf\n",
    "\n",
    "\n",
    "learning_rate = 1e-6\n",
    "card_width, card_height = 150, 150\n",
    "\n",
    "input_pixel_data = tf.placeholder(tf.float32, shape=[None, card_width*card_height])\n",
    "weights = tf.Variable(tf.zeros([card_width*card_height, 3]))\n",
    "biases = tf.Variable(tf.zeros([3]))\n",
    "estimated_output_category = tf.nn.softmax(tf.matmul(input_pixel_data, weights) + biases)\n",
    "actual_output_category = tf.placeholder(tf.float32, [None, 3])\n",
    "\n",
    "cross_entropy = -tf.reduce_sum(actual_output_category * tf.log(estimated_output_category))\n",
    "train_step = tf.train.GradientDescentOptimizer(learning_rate).minimize(cross_entropy)\n",
    "\n",
    "correct_prediction = tf.equal(\n",
    "  tf.argmax(estimated_output_category, 1), \n",
    "  tf.argmax(actual_output_category, 1))\n",
    "accuracy = tf.reduce_mean(tf.cast(correct_prediction, tf.float32))"
   ]
  },
  {
   "cell_type": "markdown",
   "metadata": {},
   "source": [
    "---\n",
    "and run the optimizer in batches\n",
    "\n",
    "---"
   ]
  },
  {
   "cell_type": "code",
   "execution_count": 30,
   "metadata": {
    "collapsed": false
   },
   "outputs": [
    {
     "name": "stdout",
     "output_type": "stream",
     "text": [
      "iteration: 0 -> accuracy: 0.351852\n",
      "iteration: 100 -> accuracy: 0.490741\n",
      "iteration: 200 -> accuracy: 0.712963\n",
      "iteration: 300 -> accuracy: 0.908951\n",
      "iteration: 400 -> accuracy: 0.962963\n",
      "iteration: 500 -> accuracy: 0.987654\n",
      "iteration: 600 -> accuracy: 0.975309\n",
      "iteration: 700 -> accuracy: 0.932099\n",
      "iteration: 800 -> accuracy: 1.0\n",
      "iteration: 900 -> accuracy: 1.0\n",
      "done.\n"
     ]
    }
   ],
   "source": [
    "measured_iterations, measured_accuracies = [], []\n",
    "total_iterations = 1000\n",
    "batch_size = 100\n",
    "\n",
    "session = tf.Session()\n",
    "session.run(tf.initialize_all_variables())\n",
    "\n",
    "for iteration in range(total_iterations):\n",
    "  batch_data = random.sample(all_data, batch_size)\n",
    "  batch_input_pixel_data = [pixel_data for _, pixel_data in batch_data]\n",
    "  batch_output_categories = [\n",
    "    possible_categories[int(filename.split('-')[0]) - 1] for filename, _ in batch_data\n",
    "  ]\n",
    "  training_data = {\n",
    "    input_pixel_data: batch_input_pixel_data,\n",
    "    actual_output_category: batch_output_categories,\n",
    "  }\n",
    "  \n",
    "  session.run(train_step, feed_dict=training_data)\n",
    "  \n",
    "  if (iteration % 50) == 0:\n",
    "    accuracy_measurement_data = {\n",
    "      input_pixel_data: all_input_pixel_data,\n",
    "      actual_output_category: all_output_categories,\n",
    "    }\n",
    "    measured_accuracy = session.run(accuracy, feed_dict=accuracy_measurement_data)\n",
    "    measured_iterations.append(iteration)\n",
    "    measured_accuracies.append(measured_accuracy)\n",
    "    if (iteration % 100) == 0:\n",
    "      print 'iteration: %s -> accuracy: %s' % (iteration, measured_accuracy)\n",
    "\n",
    "print 'done.'"
   ]
  },
  {
   "cell_type": "markdown",
   "metadata": {
    "collapsed": true
   },
   "source": [
    "---\n",
    "plot the accuracy vs iteration number\n",
    "\n",
    "---"
   ]
  },
  {
   "cell_type": "code",
   "execution_count": 31,
   "metadata": {
    "collapsed": false
   },
   "outputs": [
    {
     "data": {
      "image/png": "[encoded data removed]",
      "text/plain": [
       "<matplotlib.figure.Figure at 0x7f0508342510>"
      ]
     },
     "metadata": {},
     "output_type": "display_data"
    }
   ],
   "source": [
    "% matplotlib inline\n",
    "import matplotlib.pyplot as plt\n",
    "\n",
    "plt.plot(measured_iterations, measured_accuracies, 'bo')\n",
    "plt.plot(measured_iterations, measured_accuracies, 'k-')\n",
    "_ = plt.xlabel('iteration')\n",
    "_ = plt.ylabel('accuracy')"
   ]
  },
  {
   "cell_type": "code",
   "execution_count": null,
   "metadata": {
    "collapsed": true
   },
   "outputs": [],
   "source": []
  }
 ],
 "metadata": {
  "kernelspec": {
   "display_name": "Python 2",
   "language": "python",
   "name": "python2"
  },
  "language_info": {
   "codemirror_mode": {
    "name": "ipython",
    "version": 2
   },
   "file_extension": ".py",
   "mimetype": "text/x-python",
   "name": "python",
   "nbconvert_exporter": "python",
   "pygments_lexer": "ipython2",
   "version": "2.7.6"
  }
 },
 "nbformat": 4,
 "nbformat_minor": 0
}

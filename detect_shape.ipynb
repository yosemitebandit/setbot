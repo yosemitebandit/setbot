{
 "cells": [
  {
   "cell_type": "markdown",
   "metadata": {
    "collapsed": true
   },
   "source": [
    "---\n",
    "We'll use tensorflow to predict the type of shape in each image: oval, diamond or bean.\n",
    "\n",
    "We should already have `.npy` files in `greyscale-data`.  We'll first load data into various structures for later.  This cell mainly splits the data into training, validation and test folds.\n",
    "\n",
    "---"
   ]
  },
  {
   "cell_type": "code",
   "execution_count": 1,
   "metadata": {
    "collapsed": false
   },
   "outputs": [],
   "source": [
    "import os\n",
    "import random\n",
    "import numpy as np\n",
    "\n",
    "\n",
    "input_directory = 'greyscaled-data'\n",
    "\n",
    "# Load all the data into an array.  Each element is a tuple: (filename, numpy data).\n",
    "# The filename structure is \"<number>-<color>-<texture>-<shape>-<rotation>.png\"\n",
    "# We'll sort the data first so the later shuffle is consistent.\n",
    "all_data = [\n",
    "  (f, np.load(os.path.join(input_directory, f))) for f in os.listdir(input_directory)\n",
    "]\n",
    "all_data_sorted = sorted(all_data, key=lambda element: element[0])\n",
    "random.seed(2)\n",
    "random.shuffle(all_data_sorted)\n",
    "\n",
    "# Save 20% of the data for testing (the final, one-shot evaluation of performance).\n",
    "split_index = int(0.2 * len(all_data_sorted))\n",
    "test_data = all_data_sorted[0:split_index]\n",
    "remaining_data = all_data_sorted[split_index:]\n",
    "\n",
    "# Now save 20% of the remaining data for validation.\n",
    "split_index = int(0.2 * len(remaining_data))\n",
    "validation_data = remaining_data[0:split_index]\n",
    "training_data = remaining_data[split_index:]\n",
    "\n",
    "# For convenience, get all the pixel data into separate arrays.\n",
    "training_pixel_data = [pixel_data for _, pixel_data in training_data]\n",
    "validation_pixel_data = np.array([pixel_data for _, pixel_data in validation_data])\n",
    "test_pixel_data = np.array([pixel_data for _, pixel_data in test_data])\n",
    "\n",
    "# Each filename, in its text, has an embedded type of shape.\n",
    "# As in, \"2-red-empty-oval-45.npy\"\n",
    "# We need to convert those classes (the output ground truth) into label arrays.\n",
    "all_labels = {\n",
    "  'oval': [1., 0., 0.],\n",
    "  'diamond': [0., 1., 0.],\n",
    "  'bean': [0., 0., 1.],\n",
    "}\n",
    "training_labels = [\n",
    "  all_labels[filename.split('-')[3]] for filename, _ in training_data\n",
    "]\n",
    "validation_labels = [\n",
    "  all_labels[filename.split('-')[3]] for filename, _ in validation_data\n",
    "]\n",
    "test_labels = [\n",
    "  all_labels[filename.split('-')[3]] for filename, _ in test_data\n",
    "]"
   ]
  },
  {
   "cell_type": "markdown",
   "metadata": {},
   "source": [
    "---\n",
    "setup tensorflow\n",
    "\n",
    "---"
   ]
  },
  {
   "cell_type": "code",
   "execution_count": 2,
   "metadata": {
    "collapsed": false
   },
   "outputs": [],
   "source": [
    "import random\n",
    "import tensorflow as tf\n",
    "\n",
    "\n",
    "learning_rate = 1e-4\n",
    "regularization_factor = 1e-4\n",
    "card_width, card_height = 150, 150\n",
    "first_hidden_layer_size, second_hidden_layer_size = 1024, 32\n",
    "\n",
    "graph = tf.Graph()\n",
    "with graph.as_default():\n",
    "  # Setup the training steps.\n",
    "  tf_training_data = tf.placeholder(tf.float32, shape=[None, card_width*card_height])\n",
    "  tf_training_labels = tf.placeholder(tf.float32, shape=[None, 3])\n",
    "  \n",
    "  # Create hidden layers of ReLUs.\n",
    "  first_hidden_weights = tf.Variable(\n",
    "    tf.truncated_normal([card_width*card_height, first_hidden_layer_size]), name='first_hidden_weights')\n",
    "  first_hidden_biases = tf.Variable(\n",
    "    tf.zeros([first_hidden_layer_size]), name='first_hidden_biases')\n",
    "  first_hidden_layer = tf.nn.relu(tf.matmul(tf_training_data, first_hidden_weights) + first_hidden_biases)\n",
    "  second_hidden_weights = tf.Variable(\n",
    "    tf.truncated_normal([first_hidden_layer_size, second_hidden_layer_size]), name='second_hidden_weights')\n",
    "  second_hidden_biases = tf.Variable(\n",
    "    tf.zeros([second_hidden_layer_size]), name='second_hidden_biases')\n",
    "  second_hidden_layer = tf.nn.relu(tf.matmul(first_hidden_layer, second_hidden_weights) + second_hidden_biases)\n",
    "  \n",
    "  # Build the output layer.\n",
    "  output_weights = tf.Variable(tf.truncated_normal([second_hidden_layer_size, 3]), name='output_weights')\n",
    "  output_biases = tf.Variable(tf.zeros([3]), name='output_biases')\n",
    "  output_logits = tf.matmul(second_hidden_layer, output_weights) + output_biases\n",
    "  training_estimate = tf.nn.softmax(output_logits)\n",
    "\n",
    "  # Calculate loss and setup the optimizer.\n",
    "  loss = tf.reduce_mean(tf.nn.softmax_cross_entropy_with_logits(output_logits, tf_training_labels))\n",
    "  l2_regularization = (tf.nn.l2_loss(output_weights) +\n",
    "                       tf.nn.l2_loss(first_hidden_weights) +\n",
    "                       tf.nn.l2_loss(second_hidden_weights))\n",
    "  loss += regularization_factor * l2_regularization\n",
    "  training_step = tf.train.AdamOptimizer(learning_rate).minimize(loss)\n",
    "\n",
    "  # Setup validation.  We have to reshape into a \"dense tensor\"\n",
    "  # by, essentially, combining this array of arrays into a true matrix.\n",
    "  tf_validation_pixel_data = tf.constant(\n",
    "    validation_pixel_data.reshape((-1, card_width*card_height)).astype(np.float32))\n",
    "  validation_first_hidden_layer = tf.nn.relu(\n",
    "    tf.matmul(tf_validation_pixel_data, first_hidden_weights) + first_hidden_biases)\n",
    "  validation_second_hidden_layer = tf.nn.relu(\n",
    "    tf.matmul(validation_first_hidden_layer, second_hidden_weights) + second_hidden_biases)\n",
    "  validation_logits = tf.matmul(validation_second_hidden_layer, output_weights) + output_biases\n",
    "  validation_estimate = tf.nn.softmax(validation_logits)\n",
    "\n",
    "  # Setup the final test run.\n",
    "  tf_test_pixel_data = tf.constant(\n",
    "    test_pixel_data.reshape((-1, card_width*card_height)).astype(np.float32))\n",
    "  test_first_hidden_layer = tf.nn.relu(\n",
    "    tf.matmul(tf_test_pixel_data, first_hidden_weights) + first_hidden_biases)\n",
    "  test_second_hidden_layer = tf.nn.relu(\n",
    "    tf.matmul(test_first_hidden_layer, second_hidden_weights) + second_hidden_biases)\n",
    "  test_logits = tf.matmul(test_second_hidden_layer, output_weights) + output_biases\n",
    "  test_estimate = tf.nn.softmax(test_logits)"
   ]
  },
  {
   "cell_type": "markdown",
   "metadata": {},
   "source": [
    "---\n",
    "aside: create a small function to calculate the accuracy of a set of predictions\n",
    "  \n",
    "---"
   ]
  },
  {
   "cell_type": "code",
   "execution_count": 3,
   "metadata": {
    "collapsed": true
   },
   "outputs": [],
   "source": [
    "def calculate_accuracy(predictions, ground_truth):\n",
    "  \"\"\"Determine what proportion of predictions are accurate based on ground truth.\"\"\"\n",
    "  correctness = np.sum(np.argmax(predictions, 1) == np.argmax(ground_truth, 1))\n",
    "  return 100. * correctness / predictions.shape[0]"
   ]
  },
  {
   "cell_type": "markdown",
   "metadata": {},
   "source": [
    "---\n",
    "and run the optimizer in batches\n",
    "\n",
    "---"
   ]
  },
  {
   "cell_type": "code",
   "execution_count": 5,
   "metadata": {
    "collapsed": false
   },
   "outputs": [
    {
     "name": "stdout",
     "output_type": "stream",
     "text": [
      "iteration: 0 -> loss: 560305.0, training accuracy: 27.0%, validation accuracy: 32.2%\n",
      "iteration: 40 -> loss: 108041.0, training accuracy: 47.0%, validation accuracy: 43.3%\n",
      "iteration: 80 -> loss: 60079.6, training accuracy: 49.0%, validation accuracy: 50.0%\n",
      "iteration: 120 -> loss: 19414.6, training accuracy: 78.0%, validation accuracy: 60.8%\n",
      "iteration: 160 -> loss: 24963.3, training accuracy: 69.0%, validation accuracy: 62.9%\n",
      "iteration: 200 -> loss: 20274.7, training accuracy: 73.0%, validation accuracy: 70.4%\n",
      "iteration: 240 -> loss: 11564.7, training accuracy: 87.0%, validation accuracy: 72.2%\n",
      "iteration: 280 -> loss: 3814.76, training accuracy: 88.0%, validation accuracy: 78.4%\n",
      "iteration: 320 -> loss: 5311.58, training accuracy: 86.0%, validation accuracy: 80.4%\n",
      "iteration: 360 -> loss: 2164.99, training accuracy: 92.0%, validation accuracy: 77.3%\n",
      "iteration: 400 -> loss: 1419.75, training accuracy: 97.0%, validation accuracy: 85.6%\n",
      "iteration: 440 -> loss: 3627.47, training accuracy: 92.0%, validation accuracy: 87.9%\n",
      "iteration: 480 -> loss: 1478.39, training accuracy: 99.0%, validation accuracy: 88.7%\n",
      "iteration: 520 -> loss: 1810.17, training accuracy: 96.0%, validation accuracy: 88.7%\n",
      "iteration: 560 -> loss: 1251.65, training accuracy: 96.0%, validation accuracy: 88.9%\n",
      "iteration: 600 -> loss: 988.73, training accuracy: 97.0%, validation accuracy: 87.6%\n",
      "iteration: 640 -> loss: 990.794, training accuracy: 96.0%, validation accuracy: 92.3%\n",
      "iteration: 680 -> loss: 960.943, training accuracy: 98.0%, validation accuracy: 94.1%\n",
      "iteration: 720 -> loss: 897.796, training accuracy: 99.0%, validation accuracy: 93.6%\n",
      "iteration: 760 -> loss: 878.289, training accuracy: 100.0%, validation accuracy: 93.6%\n",
      "iteration: 800 -> loss: 877.617, training accuracy: 100.0%, validation accuracy: 92.8%\n",
      "iteration: 840 -> loss: 885.123, training accuracy: 99.0%, validation accuracy: 90.2%\n",
      "iteration: 880 -> loss: 1410.68, training accuracy: 95.0%, validation accuracy: 93.3%\n",
      "iteration: 920 -> loss: 875.625, training accuracy: 100.0%, validation accuracy: 94.8%\n",
      "iteration: 960 -> loss: 874.972, training accuracy: 100.0%, validation accuracy: 94.6%\n",
      "iteration: 1000 -> loss: 954.798, training accuracy: 99.0%, validation accuracy: 94.3%\n",
      "iteration: 1040 -> loss: 873.682, training accuracy: 100.0%, validation accuracy: 94.1%\n",
      "iteration: 1080 -> loss: 953.458, training accuracy: 99.0%, validation accuracy: 94.6%\n",
      "iteration: 1120 -> loss: 1366.82, training accuracy: 96.0%, validation accuracy: 91.8%\n",
      "iteration: 1160 -> loss: 871.78, training accuracy: 100.0%, validation accuracy: 93.6%\n",
      "iteration: 1200 -> loss: 871.154, training accuracy: 100.0%, validation accuracy: 95.4%\n",
      "iteration: 1240 -> loss: 870.534, training accuracy: 100.0%, validation accuracy: 95.6%\n",
      "iteration: 1280 -> loss: 869.917, training accuracy: 100.0%, validation accuracy: 94.6%\n",
      "iteration: 1320 -> loss: 869.305, training accuracy: 100.0%, validation accuracy: 95.9%\n",
      "iteration: 1360 -> loss: 868.696, training accuracy: 100.0%, validation accuracy: 95.9%\n",
      "iteration: 1400 -> loss: 1037.75, training accuracy: 98.0%, validation accuracy: 95.9%\n",
      "iteration: 1440 -> loss: 1265.73, training accuracy: 99.0%, validation accuracy: 92.8%\n",
      "iteration: 1480 -> loss: 1671.72, training accuracy: 97.0%, validation accuracy: 88.9%\n",
      "iteration: 1520 -> loss: 1296.0, training accuracy: 98.0%, validation accuracy: 96.1%\n",
      "iteration: 1560 -> loss: 865.727, training accuracy: 100.0%, validation accuracy: 96.6%\n",
      "iteration: 1600 -> loss: 865.146, training accuracy: 100.0%, validation accuracy: 95.9%\n",
      "iteration: 1640 -> loss: 883.15, training accuracy: 99.0%, validation accuracy: 96.6%\n",
      "iteration: 1680 -> loss: 1205.55, training accuracy: 99.0%, validation accuracy: 95.4%\n",
      "iteration: 1720 -> loss: 863.428, training accuracy: 100.0%, validation accuracy: 96.1%\n",
      "iteration: 1760 -> loss: 1579.53, training accuracy: 98.0%, validation accuracy: 93.3%\n",
      "iteration: 1800 -> loss: 862.302, training accuracy: 100.0%, validation accuracy: 94.3%\n",
      "iteration: 1840 -> loss: 861.745, training accuracy: 100.0%, validation accuracy: 96.9%\n",
      "iteration: 1880 -> loss: 861.191, training accuracy: 100.0%, validation accuracy: 96.9%\n",
      "iteration: 1920 -> loss: 1287.16, training accuracy: 97.0%, validation accuracy: 95.9%\n",
      "iteration: 1960 -> loss: 951.167, training accuracy: 99.0%, validation accuracy: 96.4%\n",
      "iteration: 2000 -> loss: 859.55, training accuracy: 100.0%, validation accuracy: 96.1%\n",
      "iteration: 2040 -> loss: 859.012, training accuracy: 100.0%, validation accuracy: 95.9%\n",
      "iteration: 2080 -> loss: 858.475, training accuracy: 100.0%, validation accuracy: 96.1%\n",
      "iteration: 2120 -> loss: 857.942, training accuracy: 100.0%, validation accuracy: 95.9%\n",
      "iteration: 2160 -> loss: 857.414, training accuracy: 100.0%, validation accuracy: 95.9%\n",
      "iteration: 2200 -> loss: 856.89, training accuracy: 100.0%, validation accuracy: 95.6%\n",
      "iteration: 2240 -> loss: 1231.39, training accuracy: 99.0%, validation accuracy: 95.6%\n",
      "iteration: 2280 -> loss: 855.85, training accuracy: 100.0%, validation accuracy: 96.6%\n",
      "iteration: 2320 -> loss: 855.335, training accuracy: 100.0%, validation accuracy: 96.1%\n",
      "iteration: 2360 -> loss: 854.823, training accuracy: 100.0%, validation accuracy: 96.4%\n",
      "iteration: 2400 -> loss: 886.896, training accuracy: 99.0%, validation accuracy: 96.1%\n",
      "iteration: 2440 -> loss: 853.809, training accuracy: 100.0%, validation accuracy: 92.5%\n",
      "iteration: 2480 -> loss: 25696.0, training accuracy: 70.0%, validation accuracy: 92.8%\n",
      "iteration: 2520 -> loss: 1374.8, training accuracy: 99.0%, validation accuracy: 84.8%\n",
      "iteration: 2560 -> loss: 852.342, training accuracy: 100.0%, validation accuracy: 93.8%\n",
      "iteration: 2600 -> loss: 851.865, training accuracy: 100.0%, validation accuracy: 96.1%\n",
      "iteration: 2640 -> loss: 1168.77, training accuracy: 99.0%, validation accuracy: 97.4%\n",
      "iteration: 2680 -> loss: 850.922, training accuracy: 100.0%, validation accuracy: 97.7%\n",
      "iteration: 2720 -> loss: 850.455, training accuracy: 100.0%, validation accuracy: 97.2%\n",
      "iteration: 2760 -> loss: 849.991, training accuracy: 100.0%, validation accuracy: 97.4%\n",
      "iteration: 2800 -> loss: 849.53, training accuracy: 100.0%, validation accuracy: 96.9%\n",
      "iteration: 2840 -> loss: 849.071, training accuracy: 100.0%, validation accuracy: 98.5%\n",
      "iteration: 2880 -> loss: 848.616, training accuracy: 100.0%, validation accuracy: 97.4%\n",
      "iteration: 2920 -> loss: 848.165, training accuracy: 100.0%, validation accuracy: 97.7%\n",
      "iteration: 2960 -> loss: 847.713, training accuracy: 100.0%, validation accuracy: 97.4%\n",
      "iteration: 3000 -> loss: 847.267, training accuracy: 100.0%, validation accuracy: 97.4%\n",
      "iteration: 3040 -> loss: 846.823, training accuracy: 100.0%, validation accuracy: 97.4%\n",
      "iteration: 3080 -> loss: 846.381, training accuracy: 100.0%, validation accuracy: 97.4%\n",
      "iteration: 3120 -> loss: 845.943, training accuracy: 100.0%, validation accuracy: 97.4%\n",
      "iteration: 3160 -> loss: 845.508, training accuracy: 100.0%, validation accuracy: 97.4%\n",
      "iteration: 3200 -> loss: 845.075, training accuracy: 100.0%, validation accuracy: 97.4%\n",
      "iteration: 3240 -> loss: 844.645, training accuracy: 100.0%, validation accuracy: 97.4%\n",
      "iteration: 3280 -> loss: 844.217, training accuracy: 100.0%, validation accuracy: 97.4%\n",
      "iteration: 3320 -> loss: 843.791, training accuracy: 100.0%, validation accuracy: 97.4%\n",
      "iteration: 3360 -> loss: 843.369, training accuracy: 100.0%, validation accuracy: 97.4%\n",
      "iteration: 3400 -> loss: 842.949, training accuracy: 100.0%, validation accuracy: 97.4%\n",
      "iteration: 3440 -> loss: 842.531, training accuracy: 100.0%, validation accuracy: 97.4%\n",
      "iteration: 3480 -> loss: 842.118, training accuracy: 100.0%, validation accuracy: 97.4%\n",
      "iteration: 3520 -> loss: 841.706, training accuracy: 100.0%, validation accuracy: 97.4%\n",
      "iteration: 3560 -> loss: 841.297, training accuracy: 100.0%, validation accuracy: 97.4%\n",
      "iteration: 3600 -> loss: 840.89, training accuracy: 100.0%, validation accuracy: 97.4%\n",
      "iteration: 3640 -> loss: 840.485, training accuracy: 100.0%, validation accuracy: 97.4%\n",
      "iteration: 3680 -> loss: 840.084, training accuracy: 100.0%, validation accuracy: 97.4%\n",
      "iteration: 3720 -> loss: 839.684, training accuracy: 100.0%, validation accuracy: 97.4%\n",
      "iteration: 3760 -> loss: 839.287, training accuracy: 100.0%, validation accuracy: 97.4%\n",
      "iteration: 3800 -> loss: 838.894, training accuracy: 100.0%, validation accuracy: 97.4%\n",
      "iteration: 3840 -> loss: 838.502, training accuracy: 100.0%, validation accuracy: 97.4%\n",
      "iteration: 3880 -> loss: 838.112, training accuracy: 100.0%, validation accuracy: 97.4%\n",
      "iteration: 3920 -> loss: 837.727, training accuracy: 100.0%, validation accuracy: 97.4%\n",
      "iteration: 3960 -> loss: 837.342, training accuracy: 100.0%, validation accuracy: 97.4%\n",
      "iteration: 4000 -> loss: 836.959, training accuracy: 100.0%, validation accuracy: 97.4%\n",
      "\n",
      "test accuracy: 97.3%\n"
     ]
    }
   ],
   "source": [
    "accuracies = []\n",
    "total_iterations = 4000\n",
    "batch_size = 100\n",
    "\n",
    "with tf.Session(graph=graph) as session:\n",
    "  tf.initialize_all_variables().run()\n",
    "  variable_saver = tf.train.Saver()\n",
    "\n",
    "  for iteration in range(total_iterations + 1):\n",
    "    batch_data = random.sample(training_data, batch_size)\n",
    "    batch_input_pixel_data = [pixel_data for _, pixel_data in batch_data]\n",
    "    batch_labels = [\n",
    "      all_labels[filename.split('-')[3]] for filename, _ in batch_data\n",
    "    ]\n",
    "    batch_training_data = {\n",
    "      tf_training_data: batch_input_pixel_data,\n",
    "      tf_training_labels: batch_labels,\n",
    "    }\n",
    "    _, step_loss, training_predictions = session.run(\n",
    "      [training_step, loss, training_estimate], feed_dict=batch_training_data)\n",
    "  \n",
    "    if (iteration % (total_iterations / 500)) == 0:\n",
    "      training_accuracy = calculate_accuracy(training_predictions, batch_labels)\n",
    "      validation_accuracy = calculate_accuracy(validation_estimate.eval(), validation_labels)\n",
    "      accuracies.append((iteration, training_accuracy, validation_accuracy))\n",
    "      if (iteration % (total_iterations / 400)) == 0:\n",
    "        print 'iteration: %s -> loss: %s, training accuracy: %0.1f%%, validation accuracy: %0.1f%%' % (\n",
    "          iteration, step_loss, training_accuracy, validation_accuracy)\n",
    "      if validation_accuracy > 99:\n",
    "        print 'validation accuracy: %01.f%%' % validation_accuracy\n",
    "        break\n",
    "  variable_saver.save(session, '/tmp/detect-shape-model.ckpt', latest_filename='detect-shape-checkpoint-list')\n",
    "  print '\\ntest accuracy: %0.1f%%' % calculate_accuracy(test_estimate.eval(), test_labels)"
   ]
  },
  {
   "cell_type": "markdown",
   "metadata": {},
   "source": [
    "---\n",
    "plot the accuracy vs iteration number\n",
    "\n",
    "---"
   ]
  },
  {
   "cell_type": "code",
   "execution_count": 7,
   "metadata": {
    "collapsed": false
   },
   "outputs": [
    {
     "data": {
      "image/png": "[encoded data removed]",
      "text/plain": [
       "<matplotlib.figure.Figure at 0x7f31dc4a2810>"
      ]
     },
     "metadata": {},
     "output_type": "display_data"
    }
   ],
   "source": [
    "% matplotlib inline\n",
    "import matplotlib.pyplot as plt\n",
    "\n",
    "\n",
    "iterations, training_accuracies, validation_accuracies = zip(*accuracies)\n",
    "plt.plot(iterations, training_accuracies, 'r-', label='training')\n",
    "plt.plot(iterations, validation_accuracies, 'g-', label='validation')\n",
    "axes = plt.gca()\n",
    "_ = axes.set_ylim([0, 110])\n",
    "_ = plt.xlabel('iteration')\n",
    "_ = plt.ylabel('accuracy')\n",
    "_ = plt.legend(loc='best')"
   ]
  },
  {
   "cell_type": "code",
   "execution_count": null,
   "metadata": {
    "collapsed": true
   },
   "outputs": [],
   "source": []
  }
 ],
 "metadata": {
  "kernelspec": {
   "display_name": "Python 2",
   "language": "python",
   "name": "python2"
  },
  "language_info": {
   "codemirror_mode": {
    "name": "ipython",
    "version": 2
   },
   "file_extension": ".py",
   "mimetype": "text/x-python",
   "name": "python",
   "nbconvert_exporter": "python",
   "pygments_lexer": "ipython2",
   "version": "2.7.6"
  }
 },
 "nbformat": 4,
 "nbformat_minor": 0
}

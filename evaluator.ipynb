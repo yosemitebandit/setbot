{
 "cells": [
  {
   "cell_type": "markdown",
   "metadata": {},
   "source": [
    "---\n",
    "Let's load up our generated models and make some predictions.\n",
    "\n",
    "First we'll grab a synthetic image to analyze:\n",
    "\n",
    "---"
   ]
  },
  {
   "cell_type": "code",
   "execution_count": 3,
   "metadata": {
    "collapsed": false
   },
   "outputs": [
    {
     "name": "stdout",
     "output_type": "stream",
     "text": [
      "2-green-empty-oval-27.png\n"
     ]
    },
    {
     "data": {
      "image/png": "[encoded data removed]",
      "text/plain": [
       "<IPython.core.display.Image object>"
      ]
     },
     "metadata": {},
     "output_type": "display_data"
    },
    {
     "data": {
      "image/png": "[encoded data removed]",
      "text/plain": [
       "<IPython.core.display.Image object>"
      ]
     },
     "metadata": {},
     "output_type": "display_data"
    }
   ],
   "source": [
    "import os\n",
    "import random\n",
    "from IPython import display\n",
    "\n",
    "\n",
    "rgb_directory = 'resized-images'\n",
    "greyscaled_directory = 'greyscaled-images'\n",
    "random.seed(2)\n",
    "image_filename = random.choice(os.listdir(rgb_directory))\n",
    "print image_filename\n",
    "\n",
    "rgb_filepath = os.path.join(rgb_directory, image_filename)\n",
    "display.display(display.Image(filename=rgb_filepath))\n",
    "greyscaled_filepath = os.path.join(greyscaled_directory, image_filename)\n",
    "display.display(display.Image(filename=greyscaled_filepath))"
   ]
  },
  {
   "cell_type": "markdown",
   "metadata": {},
   "source": [
    "---\n",
    "Convert the images into arrays, one greyscaled, one RGB.  Some ugly gymnastics are required to get inputs into the right rank and datatype.\n",
    "\n",
    "---"
   ]
  },
  {
   "cell_type": "code",
   "execution_count": 4,
   "metadata": {
    "collapsed": false
   },
   "outputs": [],
   "source": [
    "import numpy as np\n",
    "from PIL import Image\n",
    "\n",
    "\n",
    "def convert_to_greyscaled_pixel_data(path):\n",
    "  greyscaled_image = Image.open(path)\n",
    "  return np.array(\n",
    "    [pixel / 255. for row in np.array(greyscaled_image) for pixel in row]).astype(np.float32).reshape((1, -1))\n",
    "\n",
    "greyscaled_data = convert_to_greyscaled_pixel_data(greyscaled_filepath)\n",
    "    \n",
    "\n",
    "def convert_to_rgb_pixel_data(path):\n",
    "  rgb_image = Image.open(path)\n",
    "  number_of_channels = np.array(rgb_image).shape[2]\n",
    "  pixel_data = [pixel for row in np.array(rgb_image) for pixel in row]\n",
    "  if number_of_channels == 4:\n",
    "    rgb_data = np.array([(r, g, b) for r, g, b, _ in pixel_data]).flatten().astype(np.float32).reshape((1, -1))\n",
    "  elif number_of_channels == 3:\n",
    "    rgb_data = np.array(pixel_data).flatten().astype(np.float32).reshape((1, -1))\n",
    "  return rgb_data\n",
    "\n",
    "rgb_data = convert_to_rgb_pixel_data(rgb_filepath)"
   ]
  },
  {
   "cell_type": "markdown",
   "metadata": {},
   "source": [
    "---\n",
    "We'll start by evaluating the number of shapes.\n",
    "\n",
    "---"
   ]
  },
  {
   "cell_type": "code",
   "execution_count": 6,
   "metadata": {
    "collapsed": false
   },
   "outputs": [
    {
     "name": "stdout",
     "output_type": "stream",
     "text": [
      "estimated number of shapes: 2\n"
     ]
    }
   ],
   "source": [
    "import tensorflow as tf\n",
    "\n",
    "\n",
    "def estimate_number_of_shapes(greyscaled_data):\n",
    "  card_width, card_height = 150, 150\n",
    "  hidden_layer_size = 1024\n",
    "  checkpoint_filepath = '/tmp/detect-number-model.ckpt'\n",
    "\n",
    "  # Setup tf variables.\n",
    "  graph = tf.Graph()\n",
    "  with graph.as_default():\n",
    "    hidden_weights = tf.Variable(tf.truncated_normal([card_width*card_height, hidden_layer_size]), name='hidden_weights')\n",
    "    hidden_biases = tf.Variable(tf.zeros([hidden_layer_size]), name='hidden_biases')\n",
    "    output_weights = tf.Variable(tf.truncated_normal([hidden_layer_size, 3]), name='output_weights')\n",
    "    output_biases = tf.Variable(tf.zeros([3]), name='output_biases')\n",
    "\n",
    "  with tf.Session(graph=graph) as session:\n",
    "    # Load the model.\n",
    "    saver = tf.train.Saver()\n",
    "    saver.restore(session, checkpoint_filepath)\n",
    "    # Predict!\n",
    "    hidden_layer = tf.nn.relu(tf.matmul(greyscaled_data, hidden_weights) + hidden_biases)\n",
    "    logits = tf.matmul(hidden_layer, output_weights) + output_biases\n",
    "    estimate = tf.nn.softmax(logits)\n",
    "    result = estimate.eval()[0]\n",
    "\n",
    "  labels = (1, 2, 3)\n",
    "  for i in range(len(labels)):\n",
    "    if result[i]:\n",
    "      return labels[i]\n",
    "\n",
    "      \n",
    "result = estimate_number_of_shapes(greyscaled_data)\n",
    "print 'estimated number of shapes: %s' % result"
   ]
  },
  {
   "cell_type": "markdown",
   "metadata": {},
   "source": [
    "---\n",
    "We can separately guess the card's color.\n",
    "\n",
    "---"
   ]
  },
  {
   "cell_type": "code",
   "execution_count": 7,
   "metadata": {
    "collapsed": false
   },
   "outputs": [
    {
     "name": "stdout",
     "output_type": "stream",
     "text": [
      "estimated color: green\n"
     ]
    }
   ],
   "source": [
    "def estimate_color(rgb_data):\n",
    "  card_width, card_height, card_channels = 150, 150, 3\n",
    "  first_hidden_layer_size, second_hidden_layer_size = 512, 512\n",
    "  checkpoint_filepath = '/tmp/detect-color-model.ckpt'\n",
    "\n",
    "  graph = tf.Graph()\n",
    "  with graph.as_default():\n",
    "    first_hidden_weights = tf.Variable(\n",
    "      tf.truncated_normal([card_width*card_height*card_channels, first_hidden_layer_size]), name='first_hidden_weights')\n",
    "    first_hidden_biases = tf.Variable(\n",
    "      tf.zeros([first_hidden_layer_size]), name='first_hidden_biases')\n",
    "    second_hidden_weights = tf.Variable(\n",
    "      tf.truncated_normal([first_hidden_layer_size, second_hidden_layer_size]), name='second_hidden_weights')\n",
    "    second_hidden_biases = tf.Variable(\n",
    "      tf.zeros([second_hidden_layer_size]), name='second_hidden_biases')\n",
    "    output_weights = tf.Variable(\n",
    "      tf.truncated_normal([second_hidden_layer_size, 3]), name='output_weights')\n",
    "    output_biases = tf.Variable(\n",
    "      tf.zeros([3]), name='output_biases')\n",
    "\n",
    "  with tf.Session(graph=graph) as session:\n",
    "    # Load the model.\n",
    "    saver = tf.train.Saver()\n",
    "    saver.restore(session, checkpoint_filepath)\n",
    "    # Predict!\n",
    "    first_hidden_layer = tf.nn.relu(tf.matmul(rgb_data, first_hidden_weights) + first_hidden_biases)\n",
    "    second_hidden_layer = tf.nn.relu(tf.matmul(first_hidden_layer, second_hidden_weights) + second_hidden_biases)\n",
    "    logits = tf.matmul(second_hidden_layer, output_weights) + output_biases\n",
    "    estimate = tf.nn.softmax(logits)\n",
    "    result = estimate.eval()[0]\n",
    "\n",
    "  labels = ('red', 'green', 'purple')\n",
    "  for i in range(len(labels)):\n",
    "    if result[i]:\n",
    "      return labels[i]\n",
    "\n",
    "      \n",
    "result = estimate_color(rgb_data)\n",
    "print 'estimated color: %s' % result"
   ]
  },
  {
   "cell_type": "markdown",
   "metadata": {},
   "source": [
    "---\n",
    "How about a real image?\n",
    "\n",
    "---"
   ]
  },
  {
   "cell_type": "code",
   "execution_count": 8,
   "metadata": {
    "collapsed": false
   },
   "outputs": [],
   "source": [
    "input_directory = 'irl-images'\n",
    "irl_image_filename = 'irl-3-purple-empty-diamond.jpg'\n",
    "irl_image_filepath = os.path.join(input_directory, irl_image_filename)"
   ]
  },
  {
   "cell_type": "markdown",
   "metadata": {},
   "source": [
    "---\n",
    "Let's make it square and scale it down.  We also need a greyscale version.\n",
    "\n",
    "---"
   ]
  },
  {
   "cell_type": "code",
   "execution_count": 9,
   "metadata": {
    "collapsed": false
   },
   "outputs": [
    {
     "data": {
      "image/jpeg": "[encoded data removed]",
      "text/plain": [
       "<IPython.core.display.Image object>"
      ]
     },
     "metadata": {},
     "output_type": "display_data"
    }
   ],
   "source": [
    "image = Image.open(irl_image_filepath)\n",
    "largest_dimension = max((image.width, image.height))\n",
    "new_image = Image.new('RGB', (largest_dimension, largest_dimension), (0, 0, 0))\n",
    "left_padding = (largest_dimension - image.width) / 2\n",
    "top_padding = (largest_dimension - image.height) / 2\n",
    "new_image.paste(image, (left_padding, top_padding))\n",
    "\n",
    "card_width, card_height = 150, 150\n",
    "resized_image = new_image.resize((card_width, card_height), resample=Image.ANTIALIAS)\n",
    "\n",
    "output_directory = 'irl-resized-images'\n",
    "if not os.path.exists(output_directory):\n",
    "  os.makedirs(output_directory)\n",
    "output_filepath = os.path.join(output_directory, irl_image_filename)\n",
    "resized_image.save(output_filepath)\n",
    "display.display(display.Image(filename=output_filepath))\n",
    "\n",
    "# Save a greyscale copy too.\n",
    "output_directory = 'irl-greyscaled-images'\n",
    "if not os.path.exists(output_directory):\n",
    "  os.makedirs(output_directory)\n",
    "output_filepath = os.path.join(output_directory, irl_image_filename)\n",
    "greyscaled_image = resized_image.convert('L')\n",
    "greyscaled_image.save(output_filepath)"
   ]
  },
  {
   "cell_type": "markdown",
   "metadata": {},
   "source": [
    "---\n",
    "Convert to pixel data and make an estimate.\n",
    "\n",
    "---"
   ]
  },
  {
   "cell_type": "code",
   "execution_count": 10,
   "metadata": {
    "collapsed": false
   },
   "outputs": [
    {
     "name": "stdout",
     "output_type": "stream",
     "text": [
      "estimated number of shapes: 3\n",
      "estimated color: green\n"
     ]
    }
   ],
   "source": [
    "irl_resized_filepath = os.path.join('irl-resized-images', irl_image_filename)\n",
    "irl_greyscaled_filepath = os.path.join('irl-greyscaled-images', irl_image_filename)\n",
    "\n",
    "irl_greyscaled_data = convert_to_greyscaled_pixel_data(irl_greyscaled_filepath)\n",
    "irl_rgb_data = convert_to_rgb_pixel_data(irl_resized_filepath)\n",
    "\n",
    "result = estimate_number_of_shapes(irl_greyscaled_data)\n",
    "print 'estimated number of shapes: %s' % result\n",
    "      \n",
    "result = estimate_color(irl_rgb_data)\n",
    "print 'estimated color: %s' % result"
   ]
  },
  {
   "cell_type": "code",
   "execution_count": null,
   "metadata": {
    "collapsed": true
   },
   "outputs": [],
   "source": []
  }
 ],
 "metadata": {
  "kernelspec": {
   "display_name": "Python 2",
   "language": "python",
   "name": "python2"
  },
  "language_info": {
   "codemirror_mode": {
    "name": "ipython",
    "version": 2
   },
   "file_extension": ".py",
   "mimetype": "text/x-python",
   "name": "python",
   "nbconvert_exporter": "python",
   "pygments_lexer": "ipython2",
   "version": "2.7.6"
  }
 },
 "nbformat": 4,
 "nbformat_minor": 0
}

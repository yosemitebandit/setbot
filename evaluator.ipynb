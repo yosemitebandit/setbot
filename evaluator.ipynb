{
 "cells": [
  {
   "cell_type": "markdown",
   "metadata": {},
   "source": [
    "---\n",
    "Let's load up our generated models and make some predictions.\n",
    "\n",
    "First we'll grab a synthetic image to analyze:\n",
    "\n",
    "---"
   ]
  },
  {
   "cell_type": "code",
   "execution_count": 1,
   "metadata": {
    "collapsed": false
   },
   "outputs": [
    {
     "name": "stdout",
     "output_type": "stream",
     "text": [
      "3-red-solid-oval-338.png\n"
     ]
    },
    {
     "data": {
      "image/png": "[encoded data removed]",
      "text/plain": [
       "<IPython.core.display.Image object>"
      ]
     },
     "metadata": {},
     "output_type": "display_data"
    },
    {
     "data": {
      "image/png": "[encoded data removed]",
      "text/plain": [
       "<IPython.core.display.Image object>"
      ]
     },
     "metadata": {},
     "output_type": "display_data"
    }
   ],
   "source": [
    "import os\n",
    "import random\n",
    "from IPython import display\n",
    "\n",
    "\n",
    "rgb_directory = 'resized-images'\n",
    "greyscaled_directory = 'greyscaled-images'\n",
    "random.seed(2)\n",
    "image_filename = random.choice(os.listdir(rgb_directory))\n",
    "print image_filename\n",
    "\n",
    "rgb_filepath = os.path.join(rgb_directory, image_filename)\n",
    "display.display(display.Image(filename=rgb_filepath))\n",
    "greyscaled_filepath = os.path.join(greyscaled_directory, image_filename)\n",
    "display.display(display.Image(filename=greyscaled_filepath))"
   ]
  },
  {
   "cell_type": "markdown",
   "metadata": {},
   "source": [
    "---\n",
    "Convert the images into arrays, one greyscaled, one RGB.  Some ugly gymnastics are required to get inputs into the right rank and datatype.\n",
    "\n",
    "---"
   ]
  },
  {
   "cell_type": "code",
   "execution_count": 2,
   "metadata": {
    "collapsed": false
   },
   "outputs": [],
   "source": [
    "import numpy as np\n",
    "from PIL import Image\n",
    "\n",
    "\n",
    "def convert_to_greyscaled_pixel_data(path):\n",
    "  greyscaled_image = Image.open(path).convert('L')\n",
    "  return np.array(greyscaled_image).flatten().astype(np.float32).reshape((1, -1))\n",
    "\n",
    "def convert_to_rgb_pixel_data(path):\n",
    "  rgba_image = Image.open(path)\n",
    "  if np.array(rgba_image).shape[2] != 4:\n",
    "    rgba_image.putalpha(255)\n",
    "  return np.array(rgba_image).flatten().astype(np.float32).reshape((1, -1))\n",
    "\n",
    "greyscaled_data = convert_to_greyscaled_pixel_data(greyscaled_filepath)\n",
    "rgb_data = convert_to_rgb_pixel_data(rgb_filepath)"
   ]
  },
  {
   "cell_type": "markdown",
   "metadata": {},
   "source": [
    "---\n",
    "We'll start by evaluating the number of shapes.\n",
    "\n",
    "---"
   ]
  },
  {
   "cell_type": "code",
   "execution_count": 3,
   "metadata": {
    "collapsed": false
   },
   "outputs": [
    {
     "name": "stdout",
     "output_type": "stream",
     "text": [
      "estimated number of shapes: 3\n"
     ]
    }
   ],
   "source": [
    "import tensorflow as tf\n",
    "\n",
    "\n",
    "number_checkpoint_filepath = '/var/models-for-setbot/detect-number-model.ckpt'\n",
    "card_width, card_height = 150, 150\n",
    "number_hidden_layer_size = 1024\n",
    "\n",
    "# Setup variables.\n",
    "tf.reset_default_graph()\n",
    "number_hidden_weights = tf.Variable(\n",
    "  tf.truncated_normal([card_width*card_height, number_hidden_layer_size]), name='hidden_weights')\n",
    "number_hidden_biases = tf.Variable(\n",
    "  tf.zeros([number_hidden_layer_size]), name='hidden_biases')\n",
    "number_output_weights = tf.Variable(\n",
    "  tf.truncated_normal([number_hidden_layer_size, 3]), name='output_weights')\n",
    "number_output_biases = tf.Variable(\n",
    "  tf.zeros([3]), name='output_biases')\n",
    "  \n",
    "# Load the model.\n",
    "number_init = tf.initialize_all_variables()\n",
    "number_session = tf.Session()\n",
    "number_session.run(number_init)\n",
    "number_saver = tf.train.Saver()\n",
    "number_saver.restore(number_session, number_checkpoint_filepath)\n",
    "\n",
    "def estimate_number(greyscaled_data):\n",
    "  hidden_layer = tf.nn.relu(tf.matmul(greyscaled_data, number_hidden_weights) + number_hidden_biases)\n",
    "  logits = tf.matmul(hidden_layer, number_output_weights) + number_output_biases\n",
    "  estimate = tf.nn.softmax(logits)\n",
    "  result = estimate.eval(session=number_session)[0]\n",
    "  labels = (1, 2, 3)\n",
    "  for index, label in enumerate(labels):\n",
    "    if result[index]:\n",
    "      return label\n",
    "\n",
    "      \n",
    "result = estimate_number(greyscaled_data)\n",
    "print 'estimated number of shapes: %s' % result"
   ]
  },
  {
   "cell_type": "markdown",
   "metadata": {},
   "source": [
    "---\n",
    "We can separately guess the card's color.\n",
    "\n",
    "---"
   ]
  },
  {
   "cell_type": "code",
   "execution_count": 4,
   "metadata": {
    "collapsed": false
   },
   "outputs": [
    {
     "name": "stdout",
     "output_type": "stream",
     "text": [
      "estimated color: red\n"
     ]
    }
   ],
   "source": [
    "color_checkpoint_filepath = '/var/models-for-setbot/detect-color-model.ckpt'\n",
    "card_channels = 4\n",
    "color_first_hidden_layer_size, color_second_hidden_layer_size = 1024, 128\n",
    "\n",
    "# Setup variables.\n",
    "tf.reset_default_graph()\n",
    "color_first_hidden_weights = tf.Variable(\n",
    "  tf.truncated_normal([card_width*card_height*card_channels, color_first_hidden_layer_size]),\n",
    "  name='first_hidden_weights')\n",
    "color_first_hidden_biases = tf.Variable(\n",
    "  tf.zeros([color_first_hidden_layer_size]), name='first_hidden_biases')\n",
    "color_second_hidden_weights = tf.Variable(\n",
    "  tf.truncated_normal([color_first_hidden_layer_size, color_second_hidden_layer_size]), name='second_hidden_weights')\n",
    "color_second_hidden_biases = tf.Variable(\n",
    "  tf.zeros([color_second_hidden_layer_size]), name='second_hidden_biases')\n",
    "color_output_weights = tf.Variable(\n",
    "  tf.truncated_normal([color_second_hidden_layer_size, 3]), name='output_weights')\n",
    "color_output_biases = tf.Variable(\n",
    "  tf.zeros([3]), name='output_biases')\n",
    "\n",
    "# Load the model.\n",
    "color_init = tf.initialize_all_variables()\n",
    "color_session = tf.Session()\n",
    "color_session.run(color_init)\n",
    "color_saver = tf.train.Saver()\n",
    "color_saver.restore(color_session, color_checkpoint_filepath)\n",
    "\n",
    "def estimate_color(rgb_data):\n",
    "  first_hidden_layer = tf.nn.relu(\n",
    "    tf.matmul(rgb_data, color_first_hidden_weights) + color_first_hidden_biases)\n",
    "  second_hidden_layer = tf.nn.relu(\n",
    "    tf.matmul(first_hidden_layer, color_second_hidden_weights) + color_second_hidden_biases)\n",
    "  logits = tf.matmul(second_hidden_layer, color_output_weights) + color_output_biases\n",
    "  estimate = tf.nn.softmax(logits)\n",
    "  result = estimate.eval(session=color_session)[0]\n",
    "  labels = ('red', 'green', 'purple')\n",
    "  for index, label in enumerate(labels):\n",
    "    if result[index]:\n",
    "      return label\n",
    "\n",
    "      \n",
    "result = estimate_color(rgb_data)\n",
    "print 'estimated color: %s' % result"
   ]
  },
  {
   "cell_type": "markdown",
   "metadata": {},
   "source": [
    "---\n",
    "Texture..\n",
    "\n",
    "---"
   ]
  },
  {
   "cell_type": "code",
   "execution_count": 9,
   "metadata": {
    "collapsed": false
   },
   "outputs": [
    {
     "name": "stdout",
     "output_type": "stream",
     "text": [
      "estimated texture: empty\n"
     ]
    }
   ],
   "source": [
    "texture_checkpoint_filepath = '/var/models-for-setbot/detect-texture-model.ckpt'\n",
    "texture_first_hidden_layer_size, texture_second_hidden_layer_size, texture_third_hidden_layer_size = 512, 512, 64\n",
    "\n",
    "# Setup variables.\n",
    "tf.reset_default_graph()\n",
    "texture_first_hidden_weights = tf.Variable(\n",
    "  tf.truncated_normal([card_width*card_height, texture_first_hidden_layer_size]), name='first_hidden_weights')\n",
    "texture_first_hidden_biases = tf.Variable(\n",
    "  tf.zeros([texture_first_hidden_layer_size]), name='first_hidden_biases')\n",
    "texture_second_hidden_weights = tf.Variable(\n",
    "  tf.truncated_normal([texture_first_hidden_layer_size, texture_second_hidden_layer_size]), name='second_hidden_weights')\n",
    "texture_second_hidden_biases = tf.Variable(\n",
    "  tf.zeros([texture_second_hidden_layer_size]), name='second_hidden_biases')\n",
    "texture_third_hidden_weights = tf.Variable(\n",
    "  tf.truncated_normal([texture_second_hidden_layer_size, texture_third_hidden_layer_size]), name='third_hidden_weights')\n",
    "texture_third_hidden_biases = tf.Variable(\n",
    "  tf.zeros([texture_third_hidden_layer_size]), name='third_hidden_biases')\n",
    "texture_output_weights = tf.Variable(\n",
    "  tf.truncated_normal([texture_third_hidden_layer_size, 3]), name='output_weights')\n",
    "texture_output_biases = tf.Variable(\n",
    "  tf.zeros([3]), name='output_biases')\n",
    "\n",
    "# Load the model.\n",
    "texture_init = tf.initialize_all_variables()\n",
    "texture_session = tf.Session()\n",
    "texture_session.run(texture_init)\n",
    "texture_saver = tf.train.Saver()\n",
    "texture_saver.restore(texture_session, texture_checkpoint_filepath)\n",
    "\n",
    "def estimate_texture(greyscaled_data):\n",
    "  first_hidden_layer = tf.nn.relu(\n",
    "    tf.matmul(greyscaled_data, texture_first_hidden_weights) + texture_first_hidden_biases)\n",
    "  second_hidden_layer = tf.nn.relu(\n",
    "    tf.matmul(first_hidden_layer, texture_second_hidden_weights) + texture_second_hidden_biases)\n",
    "  third_hidden_layer = tf.nn.relu(\n",
    "    tf.matmul(first_hidden_layer, texture_third_hidden_weights) + texture_third_hidden_biases)\n",
    "  logits = tf.matmul(third_hidden_layer, texture_output_weights) + texture_output_biases\n",
    "  estimate = tf.nn.softmax(logits)\n",
    "  result = estimate.eval(session=texture_session)[0]\n",
    "  labels = ('empty', 'striped', 'solid')\n",
    "  for index, label in enumerate(labels):\n",
    "    if result[index]:\n",
    "      return label\n",
    "\n",
    "      \n",
    "result = estimate_texture(greyscaled_data)\n",
    "print 'estimated texture: %s' % result"
   ]
  },
  {
   "cell_type": "markdown",
   "metadata": {},
   "source": [
    "---\n",
    "How about real images?  Let's make them square and scale them down.  We also need greyscale versions.\n",
    "\n",
    "---"
   ]
  },
  {
   "cell_type": "code",
   "execution_count": 10,
   "metadata": {
    "collapsed": false
   },
   "outputs": [
    {
     "data": {
      "image/jpeg": "[encoded data removed]",
      "text/plain": [
       "<IPython.core.display.Image object>"
      ]
     },
     "metadata": {},
     "output_type": "display_data"
    },
    {
     "data": {
      "image/jpeg": "[encoded data removed]",
      "text/plain": [
       "<IPython.core.display.Image object>"
      ]
     },
     "metadata": {},
     "output_type": "display_data"
    }
   ],
   "source": [
    "input_directory = 'irl-images'\n",
    "\n",
    "resized_directory = 'irl-resized-images'\n",
    "if not os.path.exists(resized_directory):\n",
    "  os.makedirs(resized_directory)\n",
    "  \n",
    "greyscaled_directory = 'irl-greyscaled-images'\n",
    "if not os.path.exists(greyscaled_directory):\n",
    "  os.makedirs(greyscaled_directory)\n",
    "  \n",
    "for irl_image_filename in os.listdir(input_directory):\n",
    "  irl_image_filepath = os.path.join(input_directory, irl_image_filename)\n",
    "  image = Image.open(irl_image_filepath)\n",
    "  largest_dimension = max((image.width, image.height))\n",
    "  new_image = Image.new('RGB', (largest_dimension, largest_dimension), (255, 255, 255))\n",
    "  new_image.putalpha(255)\n",
    "  left_padding = (largest_dimension - image.width) / 2\n",
    "  top_padding = (largest_dimension - image.height) / 2\n",
    "  new_image.paste(image, (left_padding, top_padding))\n",
    "\n",
    "  card_width, card_height = 150, 150\n",
    "  resized_image = new_image.resize((card_width, card_height), resample=Image.ANTIALIAS)\n",
    "  resized_filepath = os.path.join(resized_directory, irl_image_filename)\n",
    "  resized_image.save(resized_filepath)\n",
    "\n",
    "  greyscaled_filepath = os.path.join(greyscaled_directory, irl_image_filename)\n",
    "  greyscaled_image = resized_image.convert('L')\n",
    "  greyscaled_image.save(greyscaled_filepath)\n",
    "\n",
    "# Display a few.\n",
    "display.display(display.Image(filename=resized_filepath))\n",
    "display.display(display.Image(filename=greyscaled_filepath))"
   ]
  },
  {
   "cell_type": "markdown",
   "metadata": {},
   "source": [
    "---\n",
    "Convert to pixel data and make an estimate.\n",
    "\n",
    "---"
   ]
  },
  {
   "cell_type": "code",
   "execution_count": 13,
   "metadata": {
    "collapsed": false
   },
   "outputs": [
    {
     "name": "stdout",
     "output_type": "stream",
     "text": [
      "irl-1-green-solid-oval.jpg\n",
      "  estimate: 1-green-empty\n",
      "irl-2-red-striped-diamond.jpg\n",
      "  estimate: 3-purple-empty\n",
      "irl-3-purple-empty-diamond.jpg\n",
      "  estimate: 3-purple-empty\n",
      "irl-3-red-striped-bean.jpg\n",
      "  estimate: 3-purple-empty\n"
     ]
    }
   ],
   "source": [
    "for irl_image_filename in os.listdir('irl-images'):\n",
    "  print irl_image_filename\n",
    "  resized_filepath = os.path.join('irl-resized-images', irl_image_filename)\n",
    "  greyscaled_filepath = os.path.join('irl-greyscaled-images', irl_image_filename)\n",
    "  \n",
    "  greyscaled_data = convert_to_greyscaled_pixel_data(greyscaled_filepath)\n",
    "  rgb_data = convert_to_rgb_pixel_data(resized_filepath)\n",
    "\n",
    "  estimated_number = estimate_number(greyscaled_data)      \n",
    "  estimated_color = estimate_color(rgb_data)\n",
    "  estimated_texture = estimate_texture(greyscaled_data)\n",
    "  \n",
    "  print '  estimate: %s-%s-%s' % (estimated_number, estimated_color, estimated_texture)"
   ]
  },
  {
   "cell_type": "code",
   "execution_count": null,
   "metadata": {
    "collapsed": true
   },
   "outputs": [],
   "source": []
  }
 ],
 "metadata": {
  "kernelspec": {
   "display_name": "Python 2",
   "language": "python",
   "name": "python2"
  },
  "language_info": {
   "codemirror_mode": {
    "name": "ipython",
    "version": 2
   },
   "file_extension": ".py",
   "mimetype": "text/x-python",
   "name": "python",
   "nbconvert_exporter": "python",
   "pygments_lexer": "ipython2",
   "version": "2.7.10"
  }
 },
 "nbformat": 4,
 "nbformat_minor": 0
}
